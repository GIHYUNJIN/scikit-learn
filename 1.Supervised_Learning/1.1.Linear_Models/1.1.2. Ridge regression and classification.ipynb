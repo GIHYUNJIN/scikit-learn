{
 "cells": [
  {
   "cell_type": "markdown",
   "metadata": {},
   "source": [
    "## 1.1.2. Ridge Regression and Classification"
   ]
  },
  {
   "cell_type": "markdown",
   "metadata": {},
   "source": [
    "Ridge regularization은 계수의 크기에 패널티를 부과하여 최소제곱법의 과적합 문제를 해결하는 정규화 방법입니다.<br><br>\n",
    "또한 L2 Regularization이라고도 부릅니다.<br><br>\n",
    "Ridge regression은 최소제곱법(OLS)와 유사하나 '각 계수의 제곱을 합한 값'을 식에 포함하여 계수의 크기도 함께 최소화 하도록 만들었다는 차이가 있습니다.<br><br>\n",
    "$ \\min_{w}||X_w - y||_{2}^{2} + \\alpha||w||_{2}^{2} $<br><br>\n",
    "최소값을 구하는 것이 목적이므로 $\\alpha$ 값이 커질 수록 $w$는 0으로 수렴할 것입니다.<br><br>\n",
    "$w$값이 0으로 수렴한다면 아래의 그림과 같이 모델이 단순해지고 과적합을 방지할 수 있습니다."
   ]
  },
  {
   "cell_type": "markdown",
   "metadata": {},
   "source": [
    "![](img\\\\ridge.png)"
   ]
  },
  {
   "cell_type": "markdown",
   "metadata": {},
   "source": [
    "### 1.1.2.1. Regression"
   ]
  },
  {
   "cell_type": "code",
   "execution_count": 12,
   "metadata": {},
   "outputs": [
    {
     "data": {
      "text/plain": [
       "Ridge(alpha=0.7)"
      ]
     },
     "execution_count": 12,
     "metadata": {},
     "output_type": "execute_result"
    }
   ],
   "source": [
    "from sklearn import linear_model\n",
    "reg = linear_model.Ridge(alpha = .7)\n",
    "reg.fit([[0,0], [0,0],[1,1]], [0, .1, 1])"
   ]
  },
  {
   "cell_type": "code",
   "execution_count": 13,
   "metadata": {},
   "outputs": [
    {
     "data": {
      "text/plain": [
       "array([0.31147541, 0.31147541])"
      ]
     },
     "execution_count": 13,
     "metadata": {},
     "output_type": "execute_result"
    }
   ],
   "source": [
    "reg.coef_"
   ]
  },
  {
   "cell_type": "code",
   "execution_count": 3,
   "metadata": {},
   "outputs": [
    {
     "data": {
      "text/plain": [
       "0.15901639344262297"
      ]
     },
     "execution_count": 3,
     "metadata": {},
     "output_type": "execute_result"
    }
   ],
   "source": [
    "reg.intercept_"
   ]
  },
  {
   "cell_type": "markdown",
   "metadata": {},
   "source": [
    "### 1.1.2.2 Classification"
   ]
  },
  {
   "cell_type": "markdown",
   "metadata": {},
   "source": [
    "Ridge regressor 분석기에는 변형된 분류기인 RidgeClassifier이 있습니다. 이 분류기는 먼저 binary target을 {-1,1} 로 변환한 다음 문제를 회귀 작업으로 처리하여 최적화 합니다.<br>\n",
    "예측된 클래스는 regressor의 예측 부호에 해당합니다. 다중클래스 분류의 경우 문제는 다중 출력 회귀로 처리되고 예측된 클래스는 가장 높은 값을 가진 출력에 해당합니다.<br>\n",
    "\n",
    "보다 전통적인 logistic 또는 hinge loss 대신 분류 모델에 맞추기 위해 Least Squares(최소제곱) loss를 사용하는 것이 의심스러워 보일 수 있습니다.<br>\n",
    "그러나 실제로 이러한 모든 모델은 정확도 또는 정밀도, 재현율 측면에서 유사한 교차 검증 Score로 이어질 수 있는 반면,<br>\n",
    "RidgeCladdifier에서 사용하는 Penalized Least Squares은 고유한 계산 성능 프로필을 가진 수치 솔버의 매우 다른 선택을 허용합니다.<br>\n",
    "\n",
    "RidgeClassifier는 프로젝션 행렬 $(X^{T}X)^{-1}X^{T}$를 한번만 계산 하기 때문에 클래스 수가 많은 LogisticRegression보다 훨씬 빠를 수 있습니다."
   ]
  },
  {
   "cell_type": "markdown",
   "metadata": {},
   "source": [
    "**Plot Ridge coefficients as a function of the regularization**\n",
    "\n",
    "이 예제는 estimator의 계소에서 공선성의 효과를 보여줍니다.\n",
    "\n",
    "Ridge regression은 이 예에서 사용된 estimator입니다. 각 색상은 계수 벡터의 다른 특성을 나타내며 이는 regularization 매개변수의 함수로 표시됩니다.\n",
    "\n",
    "이 예는 또한 조건이 매우 나쁜 행렬에 Ridge regression을 적용하는 것의 유용성을 보여줍니다.<br>\n",
    "이러한 행렬의 경우 목표 변수가 약간 변경되어도 계산된 가중치가 크게 달라질 수 있습니다.<br>\n",
    "이러한 경우 이 변동(Noise)을 줄이기 위해 특정 정규화($\\alpha$)를 설정하는 것이 유용합니다.<br>\n",
    "\n",
    "$\\alpha$ 가 매우 크면 정규화 효과가 제곱 손실 함수를 지배하고 계수는 0이 되는 경향이 있습니다.<br>\n",
    "경로의 끝에서 $\\alpha$는 0을 향하고 솔루션은 일반적인 최소 제곱을 향하는 경향이 있으므로 계수는 큰 진동을 나타냅니다.<br>\n",
    "실제로는 둘 사이의 균형이 유지되는 방식으로 알파를 조정할 필요가 있습니다."
   ]
  },
  {
   "cell_type": "code",
   "execution_count": 1,
   "metadata": {},
   "outputs": [],
   "source": [
    "import numpy as np\n",
    "import matplotlib.pyplot as plt\n",
    "from sklearn import linear_model\n",
    "\n",
    "# X is the 10x10 Hilbert matrix\n",
    "X = 1.0 / (np.arange(1,11) + np.arange(0,10)[:, np.newaxis])\n",
    "y = np.ones(10)"
   ]
  },
  {
   "cell_type": "markdown",
   "metadata": {},
   "source": [
    "- Compute paths(계산 경로)"
   ]
  },
  {
   "cell_type": "code",
   "execution_count": 3,
   "metadata": {},
   "outputs": [],
   "source": [
    "n_alphas = 200\n",
    "alphas = np.logspace(-10, -2, n_alphas)\n",
    "\n",
    "coefs = []\n",
    "for a in alphas:\n",
    "    ridge = linear_model.Ridge(alpha = a, fit_intercept = False)\n",
    "    ridge.fit(X,y)\n",
    "    coefs.append(ridge.coef_)"
   ]
  },
  {
   "cell_type": "markdown",
   "metadata": {},
   "source": [
    "- Display result"
   ]
  },
  {
   "cell_type": "code",
   "execution_count": 14,
   "metadata": {},
   "outputs": [
    {
     "ename": "NameError",
     "evalue": "name 'plt' is not defined",
     "output_type": "error",
     "traceback": [
      "\u001b[1;31m---------------------------------------------------------------------------\u001b[0m",
      "\u001b[1;31mNameError\u001b[0m                                 Traceback (most recent call last)",
      "\u001b[1;32m~\\AppData\\Local\\Temp\\ipykernel_4352\\2693276289.py\u001b[0m in \u001b[0;36m<module>\u001b[1;34m\u001b[0m\n\u001b[1;32m----> 1\u001b[1;33m \u001b[0mplt\u001b[0m\u001b[1;33m.\u001b[0m\u001b[0mrcParams\u001b[0m\u001b[1;33m[\u001b[0m\u001b[1;34m\"figure.figsize\"\u001b[0m\u001b[1;33m]\u001b[0m \u001b[1;33m=\u001b[0m \u001b[1;33m(\u001b[0m\u001b[1;36m10\u001b[0m\u001b[1;33m,\u001b[0m \u001b[1;36m1\u001b[0m\u001b[1;33m)\u001b[0m\u001b[1;33m\u001b[0m\u001b[1;33m\u001b[0m\u001b[0m\n\u001b[0m\u001b[0;32m      2\u001b[0m \u001b[1;33m\u001b[0m\u001b[0m\n\u001b[0;32m      3\u001b[0m \u001b[0max\u001b[0m \u001b[1;33m=\u001b[0m \u001b[0mplt\u001b[0m\u001b[1;33m.\u001b[0m\u001b[0mgca\u001b[0m\u001b[1;33m(\u001b[0m\u001b[1;33m)\u001b[0m\u001b[1;33m\u001b[0m\u001b[1;33m\u001b[0m\u001b[0m\n\u001b[0;32m      4\u001b[0m \u001b[1;33m\u001b[0m\u001b[0m\n\u001b[0;32m      5\u001b[0m \u001b[0max\u001b[0m\u001b[1;33m.\u001b[0m\u001b[0mplot\u001b[0m\u001b[1;33m(\u001b[0m\u001b[0malphas\u001b[0m\u001b[1;33m,\u001b[0m \u001b[0mcoefs\u001b[0m\u001b[1;33m)\u001b[0m\u001b[1;33m\u001b[0m\u001b[1;33m\u001b[0m\u001b[0m\n",
      "\u001b[1;31mNameError\u001b[0m: name 'plt' is not defined"
     ]
    }
   ],
   "source": [
    "plt.rcParams[\"figure.figsize\"] = (10, 10)\n",
    "\n",
    "ax = plt.gca()\n",
    "\n",
    "ax.plot(alphas, coefs)\n",
    "ax.set_xscale('log')\n",
    "ax.set_xlim(ax.set_xlim()[::-1]) # rever axis\n",
    "plt.xlabel('alpha')\n",
    "plt.ylabel('weights')\n",
    "plt.title('Ridge coefficients as a function of the regularization')\n",
    "plt.axis('tight')\n",
    "plt.show()"
   ]
  },
  {
   "cell_type": "markdown",
   "metadata": {},
   "source": [
    "**Classification of text documents using sparse features**\n",
    "\n",
    "이 예제는 bag-of words 접근 방식을 사용하여 주제별로 문서를 분류하는데 sikit-learn을 사용하는 방법을 보여줍니다.<br>\n",
    "scipy.sparse 해렬을 사용하여 기능을 저장하고 희소 행렬을 효율적으로 처리할 수 있는 다양한 분류기를 보여줍니다.<br>\n",
    "\n",
    "이 예제에서 사용되는 dataset은 20개의 뉴스 그룹 dataset입니다."
   ]
  },
  {
   "cell_type": "markdown",
   "metadata": {},
   "source": [
    "- Configuration options for the analysis"
   ]
  },
  {
   "cell_type": "code",
   "execution_count": 8,
   "metadata": {},
   "outputs": [],
   "source": [
    "# If True, we use 'HashingVectorizer', otherwise we use a 'TfidfVectorizer'\n",
    "USE_HASHING = False\n",
    "\n",
    "# Number of features used by 'HashingVectorizer'\n",
    "N_FEATURES = 2**16\n",
    "\n",
    "#Optional feature selection : either False, or an integer : the number of features to select\n",
    "SELECT_CHI2 = False"
   ]
  },
  {
   "cell_type": "markdown",
   "metadata": {},
   "source": [
    "- Load data from the training set\n",
    "\n",
    "20개의 주제에 대한 약 18000개의 뉴스 그룹 게시물로 구성된 뉴스 그룹 dataset에서 데이터를 load 하겠습니다."
   ]
  },
  {
   "cell_type": "code",
   "execution_count": 9,
   "metadata": {},
   "outputs": [
    {
     "name": "stdout",
     "output_type": "stream",
     "text": [
      "data loaded\n",
      "2034 documents - 3.980MB (training set)\n",
      "1353 documents - 2.867MB (test set)\n",
      "4 categories\n"
     ]
    }
   ],
   "source": [
    "from sklearn.datasets import fetch_20newsgroups\n",
    "\n",
    "categories = [\n",
    "    'alt.atheism',\n",
    "    'talk.religion.misc',\n",
    "    'comp.graphics',\n",
    "    'sci.space',\n",
    "]\n",
    "\n",
    "data_train = fetch_20newsgroups(\n",
    "    subset='train', categories=categories, shuffle=True, random_state=42\n",
    ")\n",
    "\n",
    "data_test = fetch_20newsgroups(\n",
    "    subset='test', categories=categories, shuffle=True, random_state=42\n",
    ")\n",
    "print('data loaded')\n",
    "\n",
    "# order of labels in 'target_names' can be different from 'categories\n",
    "target_names = data_train.target_names\n",
    "\n",
    "def size_mb(docs):\n",
    "    return sum(len(s.encode('utf-8')) for s in docs) / 1e6\n",
    "\n",
    "data_train_size_mb = size_mb(data_train.data)\n",
    "data_test_size_mb = size_mb(data_test.data)\n",
    "\n",
    "print(\n",
    "    \"%d documents - %0.3fMB (training set)\" % (len(data_train.data), data_train_size_mb)\n",
    ")\n",
    "print(\"%d documents - %0.3fMB (test set)\" % (len(data_test.data), data_test_size_mb))\n",
    "print(\"%d categories\" % len(target_names))"
   ]
  },
  {
   "cell_type": "markdown",
   "metadata": {},
   "source": [
    "- Vectorize the Training and test data"
   ]
  },
  {
   "cell_type": "markdown",
   "metadata": {},
   "source": [
    "split a training set and a test set"
   ]
  },
  {
   "cell_type": "code",
   "execution_count": 17,
   "metadata": {},
   "outputs": [],
   "source": [
    "y_train, y_test = data_train.target, data_test.target"
   ]
  },
  {
   "cell_type": "markdown",
   "metadata": {},
   "source": [
    "Extracting features from the training data using a sparse vectorizer\n",
    "    -> 희소 벡터라이저를 사용하여 훈련 데이터에서 특징 추출"
   ]
  },
  {
   "cell_type": "code",
   "execution_count": 11,
   "metadata": {},
   "outputs": [
    {
     "name": "stdout",
     "output_type": "stream",
     "text": [
      "done in 0.357778s at 11.123MB/s\n",
      "n_samples: 2034, n_features: 33809\n"
     ]
    }
   ],
   "source": [
    "from time import time\n",
    "\n",
    "from sklearn.feature_extraction.text import TfidfVectorizer\n",
    "from sklearn.feature_extraction.text import HashingVectorizer\n",
    "\n",
    "t0 = time()\n",
    "\n",
    "if USE_HASHING:\n",
    "    vectorizer = HashingVectorizer(\n",
    "        stop_words='english', alternate_sign=False, n_features=N_FEATURES\n",
    "    )\n",
    "    X_train = vectorizer.transform(data_train.data)\n",
    "else:\n",
    "    vectorizer = TfidfVectorizer(sublinear_tf=True, max_df=0.5, stop_words='english')\n",
    "    X_train = vectorizer.fit_transform(data_train.data)\n",
    "duration = time() - t0\n",
    "print(\"done in %fs at %0.3fMB/s\" % (duration, data_train_size_mb / duration))\n",
    "print(\"n_samples: %d, n_features: %d\" % X_train.shape)"
   ]
  },
  {
   "cell_type": "markdown",
   "metadata": {},
   "source": [
    "Extracting features from the test data using the same vectorizer -> 동일한 벡터라이저를 사용하여 test dat에서 특징 추출"
   ]
  },
  {
   "cell_type": "code",
   "execution_count": 12,
   "metadata": {},
   "outputs": [
    {
     "name": "stdout",
     "output_type": "stream",
     "text": [
      "done in 0.191575s at 14.968MB/s\n",
      "n_samples: 1353, n_features: 33809\n"
     ]
    }
   ],
   "source": [
    "t0 = time()\n",
    "X_test = vectorizer.transform(data_test.data)\n",
    "duration = time() - t0\n",
    "print(\"done in %fs at %0.3fMB/s\" % (duration, data_test_size_mb / duration))\n",
    "print(\"n_samples: %d, n_features: %d\" % X_test.shape)"
   ]
  },
  {
   "cell_type": "markdown",
   "metadata": {},
   "source": [
    "mapping from integer feature name to original token string"
   ]
  },
  {
   "cell_type": "code",
   "execution_count": 13,
   "metadata": {},
   "outputs": [],
   "source": [
    "if USE_HASHING:\n",
    "    feature_names = None\n",
    "else:\n",
    "    feature_names = vectorizer.get_feature_names_out()"
   ]
  },
  {
   "cell_type": "markdown",
   "metadata": {},
   "source": [
    "keeping only the best features"
   ]
  },
  {
   "cell_type": "code",
   "execution_count": 14,
   "metadata": {},
   "outputs": [],
   "source": [
    "from sklearn.feature_selection import SelectKBest, chi2\n",
    "\n",
    "if SELECT_CHI2:\n",
    "    print(\"Extracting %d best features by a chi-squared test\" % SELECT_CHI2)\n",
    "    t0 = time()\n",
    "    ch2 = SelectKBest(chi2, k=SELECT_CHI2)\n",
    "    X_train = ch2.fit_transform(X_train, y_train)\n",
    "    X_test = ch2.transform(X_test)\n",
    "    if feature_names is not None:\n",
    "        # keep selected feature names\n",
    "        feature_names = feature_names[ch2.get_support()]\n",
    "    print(\"done in %fs\" % (time() - t0))\n",
    "    print()"
   ]
  },
  {
   "cell_type": "markdown",
   "metadata": {},
   "source": [
    "- Benchmark classifiers"
   ]
  },
  {
   "cell_type": "markdown",
   "metadata": {},
   "source": [
    "먼저 벤치마킨 유틸리티를 정의합니다."
   ]
  },
  {
   "cell_type": "code",
   "execution_count": 15,
   "metadata": {},
   "outputs": [],
   "source": [
    "import numpy as np\n",
    "from sklearn import metrics\n",
    "from sklearn.utils.extmath import density\n",
    "\n",
    "\n",
    "def trim(s):\n",
    "    \"\"\"Trim string to fit on terminal (assuming 80-column display)\"\"\"\n",
    "    return s if len(s) <= 80 else s[:77] + \"...\"\n",
    "\n",
    "\n",
    "def benchmark(clf):\n",
    "    print(\"_\" * 80)\n",
    "    print(\"Training: \")\n",
    "    print(clf)\n",
    "    t0 = time()\n",
    "    clf.fit(X_train, y_train)\n",
    "    train_time = time() - t0\n",
    "    print(\"train time: %0.3fs\" % train_time)\n",
    "\n",
    "    t0 = time()\n",
    "    pred = clf.predict(X_test)\n",
    "    test_time = time() - t0\n",
    "    print(\"test time:  %0.3fs\" % test_time)\n",
    "\n",
    "    score = metrics.accuracy_score(y_test, pred)\n",
    "    print(\"accuracy:   %0.3f\" % score)\n",
    "\n",
    "    if hasattr(clf, \"coef_\"):\n",
    "        print(\"dimensionality: %d\" % clf.coef_.shape[1])\n",
    "        print(\"density: %f\" % density(clf.coef_))\n",
    "\n",
    "        if feature_names is not None:\n",
    "            print(\"top 10 keywords per class:\")\n",
    "            for i, label in enumerate(target_names):\n",
    "                top10 = np.argsort(clf.coef_[i])[-10:]\n",
    "                print(trim(\"%s: %s\" % (label, \" \".join(feature_names[top10]))))\n",
    "        print()\n",
    "\n",
    "    print(\"classification report:\")\n",
    "    print(metrics.classification_report(y_test, pred, target_names=target_names))\n",
    "\n",
    "    print(\"confusion matrix:\")\n",
    "    print(metrics.confusion_matrix(y_test, pred))\n",
    "\n",
    "    print()\n",
    "    clf_descr = str(clf).split(\"(\")[0]\n",
    "    return clf_descr, score, train_time, test_time"
   ]
  },
  {
   "cell_type": "markdown",
   "metadata": {},
   "source": [
    "이제 15개의 서로 다른 분류 모델로 데이터 세트를 훈련 및 테스트하고 각 모델에 대한 성능 결과를 얻습니다."
   ]
  },
  {
   "cell_type": "code",
   "execution_count": 18,
   "metadata": {},
   "outputs": [
    {
     "name": "stdout",
     "output_type": "stream",
     "text": [
      "================================================================================\n",
      "Ridge Classifier\n",
      "________________________________________________________________________________\n",
      "Training: \n",
      "RidgeClassifier(solver='sag', tol=0.01)\n",
      "train time: 0.102s\n",
      "test time:  0.001s\n",
      "accuracy:   0.897\n",
      "dimensionality: 33809\n",
      "density: 1.000000\n",
      "top 10 keywords per class:\n",
      "alt.atheism: osrhe atheist wingate god okcforum caltech islamic atheism keith...\n",
      "comp.graphics: animation video looking card hi 3d thanks file image graphics\n",
      "sci.space: dc flight shuttle launch pat moon sci orbit nasa space\n",
      "talk.religion.misc: jesus mitre hudson morality biblical 2000 beast mr fbi ch...\n",
      "\n",
      "classification report:\n",
      "                    precision    recall  f1-score   support\n",
      "\n",
      "       alt.atheism       0.87      0.83      0.85       319\n",
      "     comp.graphics       0.90      0.98      0.94       389\n",
      "         sci.space       0.96      0.94      0.95       394\n",
      "talk.religion.misc       0.83      0.78      0.80       251\n",
      "\n",
      "          accuracy                           0.90      1353\n",
      "         macro avg       0.89      0.88      0.89      1353\n",
      "      weighted avg       0.90      0.90      0.90      1353\n",
      "\n",
      "confusion matrix:\n",
      "[[265   9   7  38]\n",
      " [  1 382   3   3]\n",
      " [  0  22 372   0]\n",
      " [ 40  10   6 195]]\n",
      "\n",
      "================================================================================\n",
      "Perceptron\n",
      "________________________________________________________________________________\n",
      "Training: \n",
      "Perceptron(max_iter=50)\n",
      "train time: 0.014s\n",
      "test time:  0.001s\n",
      "accuracy:   0.888\n",
      "dimensionality: 33809\n",
      "density: 0.255302\n",
      "top 10 keywords per class:\n",
      "alt.atheism: wingate osrhe freedom lippard alt thing cobb atheists atheism keith\n",
      "comp.graphics: siggraph code fractal comp mpeg library pc animation sphere gr...\n",
      "sci.space: bruce wpi solar sci funding moon orbit planets dc space\n",
      "talk.religion.misc: god morality hudson beast sword fbi 2000 order mr christian\n",
      "\n",
      "classification report:\n",
      "                    precision    recall  f1-score   support\n",
      "\n",
      "       alt.atheism       0.86      0.80      0.83       319\n",
      "     comp.graphics       0.90      0.97      0.94       389\n",
      "         sci.space       0.95      0.93      0.94       394\n",
      "talk.religion.misc       0.79      0.80      0.79       251\n",
      "\n",
      "          accuracy                           0.89      1353\n",
      "         macro avg       0.88      0.88      0.88      1353\n",
      "      weighted avg       0.89      0.89      0.89      1353\n",
      "\n",
      "confusion matrix:\n",
      "[[256   7   8  48]\n",
      " [  0 379   4   6]\n",
      " [  7  21 366   0]\n",
      " [ 33  12   6 200]]\n",
      "\n",
      "================================================================================\n",
      "Passive-Aggressive\n",
      "________________________________________________________________________________\n",
      "Training: \n",
      "PassiveAggressiveClassifier(max_iter=50)\n",
      "train time: 0.015s\n",
      "test time:  0.001s\n",
      "accuracy:   0.905\n",
      "dimensionality: 33809\n",
      "density: 0.701677\n",
      "top 10 keywords per class:\n",
      "alt.atheism: osrhe wingate islam okcforum caltech atheist islamic keith athei...\n",
      "comp.graphics: thanks video tiff hi files animation 3d file image graphics\n",
      "sci.space: henry shuttle dc pat launch sci nasa moon orbit space\n",
      "talk.religion.misc: christians biblical 666 hudson fbi beast morality mr 2000...\n",
      "\n",
      "classification report:\n",
      "                    precision    recall  f1-score   support\n",
      "\n",
      "       alt.atheism       0.86      0.84      0.85       319\n",
      "     comp.graphics       0.94      0.97      0.95       389\n",
      "         sci.space       0.95      0.96      0.96       394\n",
      "talk.religion.misc       0.83      0.80      0.81       251\n",
      "\n",
      "          accuracy                           0.90      1353\n",
      "         macro avg       0.89      0.89      0.89      1353\n",
      "      weighted avg       0.90      0.90      0.90      1353\n",
      "\n",
      "confusion matrix:\n",
      "[[269   5   9  36]\n",
      " [  2 377   5   5]\n",
      " [  2  14 378   0]\n",
      " [ 39   7   5 200]]\n",
      "\n",
      "================================================================================\n",
      "kNN\n",
      "________________________________________________________________________________\n",
      "Training: \n",
      "KNeighborsClassifier(n_neighbors=10)\n",
      "train time: 0.001s\n"
     ]
    },
    {
     "name": "stderr",
     "output_type": "stream",
     "text": [
      "c:\\Users\\user\\anaconda3\\envs\\deep\\lib\\site-packages\\sklearn\\linear_model\\_ridge.py:730: UserWarning: \"sag\" solver requires many iterations to fit an intercept with sparse inputs. Either set the solver to \"auto\" or \"sparse_cg\", or set a low \"tol\" and a high \"max_iter\" (especially if inputs are not standardized).\n",
      "  '\"sag\" solver requires many iterations to fit '\n"
     ]
    },
    {
     "name": "stdout",
     "output_type": "stream",
     "text": [
      "test time:  0.140s\n",
      "accuracy:   0.858\n",
      "classification report:\n",
      "                    precision    recall  f1-score   support\n",
      "\n",
      "       alt.atheism       0.78      0.90      0.84       319\n",
      "     comp.graphics       0.89      0.89      0.89       389\n",
      "         sci.space       0.90      0.91      0.90       394\n",
      "talk.religion.misc       0.86      0.67      0.75       251\n",
      "\n",
      "          accuracy                           0.86      1353\n",
      "         macro avg       0.86      0.84      0.85      1353\n",
      "      weighted avg       0.86      0.86      0.86      1353\n",
      "\n",
      "confusion matrix:\n",
      "[[287   3  11  18]\n",
      " [ 14 348  19   8]\n",
      " [  7  26 359   2]\n",
      " [ 59  13  12 167]]\n",
      "\n",
      "================================================================================\n",
      "Random forest\n",
      "________________________________________________________________________________\n",
      "Training: \n",
      "RandomForestClassifier()\n",
      "train time: 0.854s\n",
      "test time:  0.054s\n",
      "accuracy:   0.840\n",
      "classification report:\n",
      "                    precision    recall  f1-score   support\n",
      "\n",
      "       alt.atheism       0.86      0.74      0.80       319\n",
      "     comp.graphics       0.80      0.97      0.87       389\n",
      "         sci.space       0.93      0.88      0.90       394\n",
      "talk.religion.misc       0.77      0.70      0.73       251\n",
      "\n",
      "          accuracy                           0.84      1353\n",
      "         macro avg       0.84      0.82      0.83      1353\n",
      "      weighted avg       0.84      0.84      0.84      1353\n",
      "\n",
      "confusion matrix:\n",
      "[[236  26   8  49]\n",
      " [  1 378   7   3]\n",
      " [  2  43 348   1]\n",
      " [ 35  28  13 175]]\n",
      "\n",
      "================================================================================\n",
      "L2 penalty\n",
      "________________________________________________________________________________\n",
      "Training: \n",
      "LinearSVC(dual=False, tol=0.001)\n",
      "train time: 0.043s\n",
      "test time:  0.001s\n",
      "accuracy:   0.900\n",
      "dimensionality: 33809\n",
      "density: 1.000000\n",
      "top 10 keywords per class:\n",
      "alt.atheism: rushdie osrhe atheist wingate okcforum caltech islamic atheism k...\n",
      "comp.graphics: code 42 video hi animation thanks 3d file image graphics\n",
      "sci.space: planets dc pat shuttle launch sci moon nasa orbit space\n",
      "talk.religion.misc: abortion hudson 666 biblical 2000 morality mr beast fbi c...\n",
      "\n",
      "classification report:\n",
      "                    precision    recall  f1-score   support\n",
      "\n",
      "       alt.atheism       0.87      0.83      0.85       319\n",
      "     comp.graphics       0.91      0.98      0.95       389\n",
      "         sci.space       0.96      0.95      0.95       394\n",
      "talk.religion.misc       0.83      0.79      0.81       251\n",
      "\n",
      "          accuracy                           0.90      1353\n",
      "         macro avg       0.89      0.89      0.89      1353\n",
      "      weighted avg       0.90      0.90      0.90      1353\n",
      "\n",
      "confusion matrix:\n",
      "[[266   7   8  38]\n",
      " [  2 381   3   3]\n",
      " [  1  20 373   0]\n",
      " [ 38   9   6 198]]\n",
      "\n",
      "________________________________________________________________________________\n",
      "Training: \n",
      "SGDClassifier(max_iter=50)\n",
      "train time: 0.019s\n",
      "test time:  0.001s\n",
      "accuracy:   0.903\n",
      "dimensionality: 33809\n",
      "density: 0.588993\n",
      "top 10 keywords per class:\n",
      "alt.atheism: osrhe bible wingate okcforum cobb caltech islamic keith atheism ...\n",
      "comp.graphics: 3do tiff hi video 42 3d animation file image graphics\n",
      "sci.space: shuttle pat planets launch sci dc moon nasa orbit space\n",
      "talk.religion.misc: mitre abortion 666 biblical fbi morality mr 2000 beast ch...\n",
      "\n",
      "classification report:\n",
      "                    precision    recall  f1-score   support\n",
      "\n",
      "       alt.atheism       0.87      0.84      0.86       319\n",
      "     comp.graphics       0.93      0.97      0.95       389\n",
      "         sci.space       0.95      0.95      0.95       394\n",
      "talk.religion.misc       0.83      0.81      0.82       251\n",
      "\n",
      "          accuracy                           0.90      1353\n",
      "         macro avg       0.89      0.89      0.89      1353\n",
      "      weighted avg       0.90      0.90      0.90      1353\n",
      "\n",
      "confusion matrix:\n",
      "[[268   5  10  36]\n",
      " [  2 377   5   5]\n",
      " [  1  18 374   1]\n",
      " [ 36   7   5 203]]\n",
      "\n",
      "================================================================================\n",
      "L1 penalty\n",
      "________________________________________________________________________________\n",
      "Training: \n",
      "LinearSVC(dual=False, penalty='l1', tol=0.001)\n",
      "train time: 0.143s\n",
      "test time:  0.002s\n",
      "accuracy:   0.873\n",
      "dimensionality: 33809\n",
      "density: 0.005553\n",
      "top 10 keywords per class:\n",
      "alt.atheism: benedikt rice rushdie wingate islamic bmd atheism wwc keith athe...\n",
      "comp.graphics: sphere virtual 42 files windows hi image 3d 3do graphics\n",
      "sci.space: sunrise pat henry rockets dc launch flight moon orbit space\n",
      "talk.religion.misc: hudson thyagi biblical 2000 abortion kendig hare mitre ch...\n",
      "\n",
      "classification report:\n",
      "                    precision    recall  f1-score   support\n",
      "\n",
      "       alt.atheism       0.85      0.75      0.80       319\n",
      "     comp.graphics       0.89      0.97      0.93       389\n",
      "         sci.space       0.94      0.94      0.94       394\n",
      "talk.religion.misc       0.76      0.78      0.77       251\n",
      "\n",
      "          accuracy                           0.87      1353\n",
      "         macro avg       0.86      0.86      0.86      1353\n",
      "      weighted avg       0.87      0.87      0.87      1353\n",
      "\n",
      "confusion matrix:\n",
      "[[238  14  11  56]\n",
      " [  0 378   7   4]\n",
      " [  2  22 369   1]\n",
      " [ 39  12   4 196]]\n",
      "\n",
      "________________________________________________________________________________\n",
      "Training: \n",
      "SGDClassifier(max_iter=50, penalty='l1')\n",
      "train time: 0.071s\n",
      "test time:  0.001s\n",
      "accuracy:   0.886\n",
      "dimensionality: 33809\n",
      "density: 0.023640\n",
      "top 10 keywords per class:\n",
      "alt.atheism: lippard rice perry charley wingate rushdie islamic keith atheist...\n",
      "comp.graphics: 3d polygon sphere files file comp 3do animation image graphics\n",
      "sci.space: sci solar rockets nasa dc launch flight moon orbit space\n",
      "talk.religion.misc: hudson biblical 666 mitre homosexuality mr abortion beast...\n",
      "\n",
      "classification report:\n",
      "                    precision    recall  f1-score   support\n",
      "\n",
      "       alt.atheism       0.86      0.78      0.82       319\n",
      "     comp.graphics       0.92      0.97      0.95       389\n",
      "         sci.space       0.94      0.96      0.95       394\n",
      "talk.religion.misc       0.77      0.78      0.77       251\n",
      "\n",
      "          accuracy                           0.89      1353\n",
      "         macro avg       0.87      0.87      0.87      1353\n",
      "      weighted avg       0.89      0.89      0.88      1353\n",
      "\n",
      "confusion matrix:\n",
      "[[248   8  11  52]\n",
      " [  1 377   6   5]\n",
      " [  2  12 378   2]\n",
      " [ 36  11   8 196]]\n",
      "\n",
      "================================================================================\n",
      "Elastic-Net penalty\n",
      "________________________________________________________________________________\n",
      "Training: \n",
      "SGDClassifier(max_iter=50, penalty='elasticnet')\n",
      "train time: 0.095s\n",
      "test time:  0.001s\n",
      "accuracy:   0.900\n",
      "dimensionality: 33809\n",
      "density: 0.186304\n",
      "top 10 keywords per class:\n",
      "alt.atheism: caltech charley okcforum rushdie cobb wingate islamic keith athe...\n",
      "comp.graphics: computer hi points 3do 42 3d file animation image graphics\n",
      "sci.space: shuttle planets flight sci launch dc nasa moon orbit space\n",
      "talk.religion.misc: order abortion biblical morality 666 mr 2000 fbi beast ch...\n",
      "\n",
      "classification report:\n",
      "                    precision    recall  f1-score   support\n",
      "\n",
      "       alt.atheism       0.87      0.83      0.85       319\n",
      "     comp.graphics       0.94      0.97      0.95       389\n",
      "         sci.space       0.94      0.96      0.95       394\n",
      "talk.religion.misc       0.81      0.79      0.80       251\n",
      "\n",
      "          accuracy                           0.90      1353\n",
      "         macro avg       0.89      0.89      0.89      1353\n",
      "      weighted avg       0.90      0.90      0.90      1353\n",
      "\n",
      "confusion matrix:\n",
      "[[264   5  11  39]\n",
      " [  1 379   4   5]\n",
      " [  2  14 377   1]\n",
      " [ 38   7   8 198]]\n",
      "\n",
      "================================================================================\n",
      "NearestCentroid (aka Rocchio classifier)\n",
      "________________________________________________________________________________\n",
      "Training: \n",
      "NearestCentroid()\n",
      "train time: 0.003s\n",
      "test time:  0.004s\n",
      "accuracy:   0.855\n",
      "classification report:\n",
      "                    precision    recall  f1-score   support\n",
      "\n",
      "       alt.atheism       0.88      0.69      0.77       319\n",
      "     comp.graphics       0.84      0.97      0.90       389\n",
      "         sci.space       0.96      0.92      0.94       394\n",
      "talk.religion.misc       0.72      0.79      0.75       251\n",
      "\n",
      "          accuracy                           0.86      1353\n",
      "         macro avg       0.85      0.84      0.84      1353\n",
      "      weighted avg       0.86      0.86      0.85      1353\n",
      "\n",
      "confusion matrix:\n",
      "[[219  25   5  70]\n",
      " [  1 379   5   4]\n",
      " [  1  30 361   2]\n",
      " [ 29  19   5 198]]\n",
      "\n",
      "================================================================================\n",
      "Naive Bayes\n",
      "________________________________________________________________________________\n",
      "Training: \n",
      "MultinomialNB(alpha=0.01)\n",
      "train time: 0.003s\n",
      "test time:  0.001s\n",
      "accuracy:   0.899\n",
      "dimensionality: 33809\n",
      "density: 1.000000\n",
      "top 10 keywords per class:\n",
      "alt.atheism: say livesey article don people atheists com caltech god keith\n",
      "comp.graphics: file image com files nntp host posting thanks university graphics\n",
      "sci.space: pat moon digex henry article access gov com nasa space\n",
      "talk.religion.misc: apple don kent article people sandvik jesus christian god...\n",
      "\n",
      "classification report:\n",
      "                    precision    recall  f1-score   support\n",
      "\n",
      "       alt.atheism       0.85      0.87      0.86       319\n",
      "     comp.graphics       0.95      0.95      0.95       389\n",
      "         sci.space       0.92      0.95      0.94       394\n",
      "talk.religion.misc       0.86      0.77      0.81       251\n",
      "\n",
      "          accuracy                           0.90      1353\n",
      "         macro avg       0.89      0.89      0.89      1353\n",
      "      weighted avg       0.90      0.90      0.90      1353\n",
      "\n",
      "confusion matrix:\n",
      "[[279   2   8  30]\n",
      " [  2 369  16   2]\n",
      " [  3  15 376   0]\n",
      " [ 45   4   9 193]]\n",
      "\n",
      "________________________________________________________________________________\n",
      "Training: \n",
      "BernoulliNB(alpha=0.01)\n",
      "train time: 0.006s\n",
      "test time:  0.003s\n",
      "accuracy:   0.884\n",
      "dimensionality: 33809\n",
      "density: 1.000000\n",
      "top 10 keywords per class:\n",
      "alt.atheism: god say think people don com nntp host posting article\n",
      "comp.graphics: like com article know thanks graphics university nntp host pos...\n",
      "sci.space: nasa like university just com nntp host posting space article\n",
      "talk.religion.misc: think know christian posting god people just don article com\n",
      "\n",
      "classification report:\n",
      "                    precision    recall  f1-score   support\n",
      "\n",
      "       alt.atheism       0.83      0.88      0.86       319\n",
      "     comp.graphics       0.88      0.96      0.92       389\n",
      "         sci.space       0.94      0.91      0.92       394\n",
      "talk.religion.misc       0.87      0.73      0.79       251\n",
      "\n",
      "          accuracy                           0.88      1353\n",
      "         macro avg       0.88      0.87      0.87      1353\n",
      "      weighted avg       0.88      0.88      0.88      1353\n",
      "\n",
      "confusion matrix:\n",
      "[[282   9   3  25]\n",
      " [  1 373  13   2]\n",
      " [  5  31 358   0]\n",
      " [ 50  10   8 183]]\n",
      "\n",
      "________________________________________________________________________________\n",
      "Training: \n",
      "ComplementNB(alpha=0.1)\n",
      "train time: 0.003s\n",
      "test time:  0.001s\n",
      "accuracy:   0.911\n",
      "dimensionality: 33809\n",
      "density: 1.000000\n",
      "top 10 keywords per class:\n",
      "alt.atheism: bake beauchaine mangoe buphy rushdie jaeger schneider mozumder i...\n",
      "comp.graphics: swix swivel swiv3d switzerland pov vga cview vesa tiff polygon\n",
      "sci.space: kinetic engines gehrels zoology prb acad3 nsmca dseg spacecraft mc...\n",
      "talk.religion.misc: muscles dclxvi 93apr9160836 ssan dba mustard db muttiah s...\n",
      "\n",
      "classification report:\n",
      "                    precision    recall  f1-score   support\n",
      "\n",
      "       alt.atheism       0.85      0.89      0.87       319\n",
      "     comp.graphics       0.95      0.97      0.96       389\n",
      "         sci.space       0.94      0.97      0.95       394\n",
      "talk.religion.misc       0.88      0.75      0.81       251\n",
      "\n",
      "          accuracy                           0.91      1353\n",
      "         macro avg       0.90      0.90      0.90      1353\n",
      "      weighted avg       0.91      0.91      0.91      1353\n",
      "\n",
      "confusion matrix:\n",
      "[[284   2   8  25]\n",
      " [  2 379   7   1]\n",
      " [  0  13 381   0]\n",
      " [ 49   5   9 188]]\n",
      "\n",
      "================================================================================\n",
      "LinearSVC with L1-based feature selection\n",
      "________________________________________________________________________________\n",
      "Training: \n",
      "Pipeline(steps=[('feature_selection',\n",
      "                 SelectFromModel(estimator=LinearSVC(dual=False, penalty='l1',\n",
      "                                                     tol=0.001))),\n",
      "                ('classification', LinearSVC())])\n",
      "train time: 0.155s\n",
      "test time:  0.002s\n",
      "accuracy:   0.880\n",
      "classification report:\n",
      "                    precision    recall  f1-score   support\n",
      "\n",
      "       alt.atheism       0.84      0.80      0.82       319\n",
      "     comp.graphics       0.91      0.96      0.93       389\n",
      "         sci.space       0.93      0.95      0.94       394\n",
      "talk.religion.misc       0.81      0.76      0.78       251\n",
      "\n",
      "          accuracy                           0.88      1353\n",
      "         macro avg       0.87      0.87      0.87      1353\n",
      "      weighted avg       0.88      0.88      0.88      1353\n",
      "\n",
      "confusion matrix:\n",
      "[[254  11  13  41]\n",
      " [  2 374   9   4]\n",
      " [  2  18 373   1]\n",
      " [ 44   9   8 190]]\n",
      "\n"
     ]
    },
    {
     "name": "stderr",
     "output_type": "stream",
     "text": [
      "c:\\Users\\user\\anaconda3\\envs\\deep\\lib\\site-packages\\sklearn\\utils\\deprecation.py:103: FutureWarning: Attribute `coef_` was deprecated in version 0.24 and will be removed in 1.1 (renaming of 0.26).\n",
      "  warnings.warn(msg, category=FutureWarning)\n",
      "c:\\Users\\user\\anaconda3\\envs\\deep\\lib\\site-packages\\sklearn\\utils\\deprecation.py:103: FutureWarning: Attribute `coef_` was deprecated in version 0.24 and will be removed in 1.1 (renaming of 0.26).\n",
      "  warnings.warn(msg, category=FutureWarning)\n",
      "c:\\Users\\user\\anaconda3\\envs\\deep\\lib\\site-packages\\sklearn\\utils\\deprecation.py:103: FutureWarning: Attribute `coef_` was deprecated in version 0.24 and will be removed in 1.1 (renaming of 0.26).\n",
      "  warnings.warn(msg, category=FutureWarning)\n"
     ]
    }
   ],
   "source": [
    "from sklearn.feature_selection import SelectFromModel\n",
    "from sklearn.linear_model import RidgeClassifier\n",
    "from sklearn.pipeline import Pipeline\n",
    "from sklearn.svm import LinearSVC\n",
    "from sklearn.linear_model import SGDClassifier\n",
    "from sklearn.linear_model import Perceptron\n",
    "from sklearn.linear_model import PassiveAggressiveClassifier\n",
    "from sklearn.naive_bayes import BernoulliNB, ComplementNB, MultinomialNB\n",
    "from sklearn.neighbors import KNeighborsClassifier\n",
    "from sklearn.neighbors import NearestCentroid\n",
    "from sklearn.ensemble import RandomForestClassifier\n",
    "\n",
    "\n",
    "results = []\n",
    "for clf, name in (\n",
    "    (RidgeClassifier(tol=1e-2, solver=\"sag\"), \"Ridge Classifier\"),\n",
    "    (Perceptron(max_iter=50), \"Perceptron\"),\n",
    "    (PassiveAggressiveClassifier(max_iter=50), \"Passive-Aggressive\"),\n",
    "    (KNeighborsClassifier(n_neighbors=10), \"kNN\"),\n",
    "    (RandomForestClassifier(), \"Random forest\"),\n",
    "):\n",
    "    print(\"=\" * 80)\n",
    "    print(name)\n",
    "    results.append(benchmark(clf))\n",
    "\n",
    "for penalty in [\"l2\", \"l1\"]:\n",
    "    print(\"=\" * 80)\n",
    "    print(\"%s penalty\" % penalty.upper())\n",
    "    # Train Liblinear model\n",
    "    results.append(benchmark(LinearSVC(penalty=penalty, dual=False, tol=1e-3)))\n",
    "\n",
    "    # Train SGD model\n",
    "    results.append(benchmark(SGDClassifier(alpha=0.0001, max_iter=50, penalty=penalty)))\n",
    "\n",
    "# Train SGD with Elastic Net penalty\n",
    "print(\"=\" * 80)\n",
    "print(\"Elastic-Net penalty\")\n",
    "results.append(\n",
    "    benchmark(SGDClassifier(alpha=0.0001, max_iter=50, penalty=\"elasticnet\"))\n",
    ")\n",
    "\n",
    "# Train NearestCentroid without threshold\n",
    "print(\"=\" * 80)\n",
    "print(\"NearestCentroid (aka Rocchio classifier)\")\n",
    "results.append(benchmark(NearestCentroid()))\n",
    "\n",
    "# Train sparse Naive Bayes classifiers\n",
    "print(\"=\" * 80)\n",
    "print(\"Naive Bayes\")\n",
    "results.append(benchmark(MultinomialNB(alpha=0.01)))\n",
    "results.append(benchmark(BernoulliNB(alpha=0.01)))\n",
    "results.append(benchmark(ComplementNB(alpha=0.1)))\n",
    "\n",
    "print(\"=\" * 80)\n",
    "print(\"LinearSVC with L1-based feature selection\")\n",
    "# The smaller C, the stronger the regularization.\n",
    "# The more regularization, the more sparsity.\n",
    "results.append(\n",
    "    benchmark(\n",
    "        Pipeline(\n",
    "            [\n",
    "                (\n",
    "                    \"feature_selection\",\n",
    "                    SelectFromModel(LinearSVC(penalty=\"l1\", dual=False, tol=1e-3)),\n",
    "                ),\n",
    "                (\"classification\", LinearSVC(penalty=\"l2\")),\n",
    "            ]\n",
    "        )\n",
    "    )\n",
    ")"
   ]
  },
  {
   "cell_type": "markdown",
   "metadata": {},
   "source": [
    "- Add plots"
   ]
  },
  {
   "cell_type": "markdown",
   "metadata": {},
   "source": [
    "막대 플롯은 각 분류기의 정확도, 훈련 시간(정규화) 및 테스트 시간(정규화)을 나타냅니다."
   ]
  },
  {
   "cell_type": "code",
   "execution_count": 19,
   "metadata": {},
   "outputs": [
    {
     "data": {
      "image/png": "[encoded data removed]",
      "text/plain": [
       "<Figure size 864x576 with 1 Axes>"
      ]
     },
     "metadata": {
      "needs_background": "light"
     },
     "output_type": "display_data"
    }
   ],
   "source": [
    "import matplotlib.pyplot as plt\n",
    "\n",
    "indices = np.arange(len(results))\n",
    "\n",
    "results = [[x[i] for x in results] for i in range(4)]\n",
    "\n",
    "clf_names, score, training_time, test_time = results\n",
    "training_time = np.array(training_time) / np.max(training_time)\n",
    "test_time = np.array(test_time) / np.max(test_time)\n",
    "\n",
    "plt.figure(figsize=(12, 8))\n",
    "plt.title(\"Score\")\n",
    "plt.barh(indices, score, 0.2, label=\"score\", color=\"navy\")\n",
    "plt.barh(indices + 0.3, training_time, 0.2, label=\"training time\", color=\"c\")\n",
    "plt.barh(indices + 0.6, test_time, 0.2, label=\"test time\", color=\"darkorange\")\n",
    "plt.yticks(())\n",
    "plt.legend(loc=\"best\")\n",
    "plt.subplots_adjust(left=0.25)\n",
    "plt.subplots_adjust(top=0.95)\n",
    "plt.subplots_adjust(bottom=0.05)\n",
    "\n",
    "for i, c in zip(indices, clf_names):\n",
    "    plt.text(-0.3, i, c)\n",
    "\n",
    "plt.show()"
   ]
  }
 ],
 "metadata": {
  "interpreter": {
   "hash": "21278c9276100b1652f3f92759879876200e410586490b47d4aac09db8da8794"
  },
  "kernelspec": {
   "display_name": "Python 3.7.13 ('deep')",
   "language": "python",
   "name": "python3"
  },
  "language_info": {
   "codemirror_mode": {
    "name": "ipython",
    "version": 3
   },
   "file_extension": ".py",
   "mimetype": "text/x-python",
   "name": "python",
   "nbconvert_exporter": "python",
   "pygments_lexer": "ipython3",
   "version": "3.7.13"
  },
  "orig_nbformat": 4
 },
 "nbformat": 4,
 "nbformat_minor": 2
}
