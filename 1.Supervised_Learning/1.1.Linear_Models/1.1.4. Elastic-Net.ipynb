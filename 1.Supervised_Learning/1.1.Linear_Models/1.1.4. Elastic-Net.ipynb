{
 "cells": [
  {
   "cell_type": "markdown",
   "metadata": {},
   "source": [
    "## 1.1.4. Elastic-Net"
   ]
  },
  {
   "cell_type": "markdown",
   "metadata": {},
   "source": [
    "Elastic-Net은 Lasso와 Ridge를 결합한 방법입니다.<br><br>\n",
    "Lasso 는 서로 상관관계가 높은 피처들의 경우에 중요한 피처만을 선택하고 다른 피처들은 모두 회귀 계수를 0으로 만드는 성향이 강합니다.<br><br>\n",
    "이러한 성향으로 인해 alpha값에 따라 회귀 계수의 값이 급격히 변동할 수도 있는데 Elastic-Net은 이를 완화하기 위해 Ridge를 Lasso에 추가한 것입니다.<br><br>\n",
    "단점은 Lasso와 Ridge가 결합된 규제로 인해 수행시간이 상대적으로 오래걸린다는 것입니다."
   ]
  },
  {
   "cell_type": "markdown",
   "metadata": {},
   "source": [
    "$ Lasso = \\min_{w}||X_w - y||^{2}_{2} + \\alpha||w||_1 $\n",
    "<br><br><br>\n",
    "$ Ridge =  \\min_{w}||X_w - y||_{2}^{2} + \\alpha||w||_{2}^{2} $\n",
    "<br><br><br>\n",
    "$ ElasticNet =  \\min_{w}||X_w - y||_{2}^{2} + \\alpha_{1}||w||_1 + \\alpha_{2}||w||_{2}^{2} $"
   ]
  },
  {
   "cell_type": "markdown",
   "metadata": {},
   "source": [
    "scikit-learn의 ElasticNet Library 에는 $alpha$, $l1\\_ ratio$ 두가지 파라미터가 있습니다.<br><br>\n",
    "$ alpha = \\alpha_{1} + \\alpha_{2}$<br><br>\n",
    "$ l1\\_ ratio = \\frac{\\alpha_{1}}{\\alpha_{1} + \\alpha_{2}} $ <br><br>\n",
    "$ l1\\_ ratio $ 가 0 이면 $\\alpha_{1}$가 0이므로 Ridge와 동일합니다. <br><br>\n",
    "$ l1\\_ ratio $ 가 1 이면 $\\alpha_{2}$가 0이므로 Lasso와 동일합니다. <br><br>\n",
    "다시 말하면 $ l1\\_ ratio $ 가 0에 가까우면 Ridge와 비슷한 특성을 갖고 1에 가까우면 Lasso와 비슷한 특성을 갖습니다."
   ]
  },
  {
   "cell_type": "markdown",
   "metadata": {},
   "source": [
    "### Example) Boston dataset"
   ]
  },
  {
   "cell_type": "code",
   "execution_count": 1,
   "metadata": {},
   "outputs": [
    {
     "name": "stdout",
     "output_type": "stream",
     "text": [
      "Boston 데이터 세트 크기: (506, 14)\n"
     ]
    },
    {
     "data": {
      "text/html": [
       "<div>\n",
       "<style scoped>\n",
       "    .dataframe tbody tr th:only-of-type {\n",
       "        vertical-align: middle;\n",
       "    }\n",
       "\n",
       "    .dataframe tbody tr th {\n",
       "        vertical-align: top;\n",
       "    }\n",
       "\n",
       "    .dataframe thead th {\n",
       "        text-align: right;\n",
       "    }\n",
       "</style>\n",
       "<table border=\"1\" class=\"dataframe\">\n",
       "  <thead>\n",
       "    <tr style=\"text-align: right;\">\n",
       "      <th></th>\n",
       "      <th>CRIM</th>\n",
       "      <th>ZN</th>\n",
       "      <th>INDUS</th>\n",
       "      <th>CHAS</th>\n",
       "      <th>NOX</th>\n",
       "      <th>RM</th>\n",
       "      <th>AGE</th>\n",
       "      <th>DIS</th>\n",
       "      <th>RAD</th>\n",
       "      <th>TAX</th>\n",
       "      <th>PTRATIO</th>\n",
       "      <th>B</th>\n",
       "      <th>LSTAT</th>\n",
       "      <th>PRICE</th>\n",
       "    </tr>\n",
       "  </thead>\n",
       "  <tbody>\n",
       "    <tr>\n",
       "      <th>0</th>\n",
       "      <td>0.00632</td>\n",
       "      <td>18.0</td>\n",
       "      <td>2.31</td>\n",
       "      <td>0.0</td>\n",
       "      <td>0.538</td>\n",
       "      <td>6.575</td>\n",
       "      <td>65.2</td>\n",
       "      <td>4.0900</td>\n",
       "      <td>1.0</td>\n",
       "      <td>296.0</td>\n",
       "      <td>15.3</td>\n",
       "      <td>396.90</td>\n",
       "      <td>4.98</td>\n",
       "      <td>24.0</td>\n",
       "    </tr>\n",
       "    <tr>\n",
       "      <th>1</th>\n",
       "      <td>0.02731</td>\n",
       "      <td>0.0</td>\n",
       "      <td>7.07</td>\n",
       "      <td>0.0</td>\n",
       "      <td>0.469</td>\n",
       "      <td>6.421</td>\n",
       "      <td>78.9</td>\n",
       "      <td>4.9671</td>\n",
       "      <td>2.0</td>\n",
       "      <td>242.0</td>\n",
       "      <td>17.8</td>\n",
       "      <td>396.90</td>\n",
       "      <td>9.14</td>\n",
       "      <td>21.6</td>\n",
       "    </tr>\n",
       "    <tr>\n",
       "      <th>2</th>\n",
       "      <td>0.02729</td>\n",
       "      <td>0.0</td>\n",
       "      <td>7.07</td>\n",
       "      <td>0.0</td>\n",
       "      <td>0.469</td>\n",
       "      <td>7.185</td>\n",
       "      <td>61.1</td>\n",
       "      <td>4.9671</td>\n",
       "      <td>2.0</td>\n",
       "      <td>242.0</td>\n",
       "      <td>17.8</td>\n",
       "      <td>392.83</td>\n",
       "      <td>4.03</td>\n",
       "      <td>34.7</td>\n",
       "    </tr>\n",
       "    <tr>\n",
       "      <th>3</th>\n",
       "      <td>0.03237</td>\n",
       "      <td>0.0</td>\n",
       "      <td>2.18</td>\n",
       "      <td>0.0</td>\n",
       "      <td>0.458</td>\n",
       "      <td>6.998</td>\n",
       "      <td>45.8</td>\n",
       "      <td>6.0622</td>\n",
       "      <td>3.0</td>\n",
       "      <td>222.0</td>\n",
       "      <td>18.7</td>\n",
       "      <td>394.63</td>\n",
       "      <td>2.94</td>\n",
       "      <td>33.4</td>\n",
       "    </tr>\n",
       "    <tr>\n",
       "      <th>4</th>\n",
       "      <td>0.06905</td>\n",
       "      <td>0.0</td>\n",
       "      <td>2.18</td>\n",
       "      <td>0.0</td>\n",
       "      <td>0.458</td>\n",
       "      <td>7.147</td>\n",
       "      <td>54.2</td>\n",
       "      <td>6.0622</td>\n",
       "      <td>3.0</td>\n",
       "      <td>222.0</td>\n",
       "      <td>18.7</td>\n",
       "      <td>396.90</td>\n",
       "      <td>5.33</td>\n",
       "      <td>36.2</td>\n",
       "    </tr>\n",
       "  </tbody>\n",
       "</table>\n",
       "</div>"
      ],
      "text/plain": [
       "      CRIM    ZN  INDUS  CHAS    NOX     RM   AGE     DIS  RAD    TAX  \\\n",
       "0  0.00632  18.0   2.31   0.0  0.538  6.575  65.2  4.0900  1.0  296.0   \n",
       "1  0.02731   0.0   7.07   0.0  0.469  6.421  78.9  4.9671  2.0  242.0   \n",
       "2  0.02729   0.0   7.07   0.0  0.469  7.185  61.1  4.9671  2.0  242.0   \n",
       "3  0.03237   0.0   2.18   0.0  0.458  6.998  45.8  6.0622  3.0  222.0   \n",
       "4  0.06905   0.0   2.18   0.0  0.458  7.147  54.2  6.0622  3.0  222.0   \n",
       "\n",
       "   PTRATIO       B  LSTAT  PRICE  \n",
       "0     15.3  396.90   4.98   24.0  \n",
       "1     17.8  396.90   9.14   21.6  \n",
       "2     17.8  392.83   4.03   34.7  \n",
       "3     18.7  394.63   2.94   33.4  \n",
       "4     18.7  396.90   5.33   36.2  "
      ]
     },
     "execution_count": 1,
     "metadata": {},
     "output_type": "execute_result"
    }
   ],
   "source": [
    "import warnings\n",
    "\n",
    "warnings.filterwarnings('ignore')\n",
    "\n",
    "import numpy as np\n",
    "import matplotlib.pyplot as plt\n",
    "import pandas as pd\n",
    "import seaborn as sns\n",
    "from scipy import stats\n",
    "from sklearn.datasets import load_boston\n",
    "from sklearn.model_selection import train_test_split, cross_val_score\n",
    "from sklearn.linear_model import LinearRegression, Ridge, Lasso, ElasticNet\n",
    "from sklearn.metrics import mean_squared_error, r2_score, confusion_matrix\n",
    "%matplotlib inline\n",
    "\n",
    "boston = load_boston()\n",
    "\n",
    "bostonDF = pd.DataFrame(boston.data, columns = boston.feature_names)\n",
    "\n",
    "bostonDF['PRICE'] = boston.target\n",
    "print('Boston 데이터 세트 크기:', bostonDF.shape)\n",
    "\n",
    "bostonDF.head()"
   ]
  },
  {
   "cell_type": "markdown",
   "metadata": {},
   "source": [
    "- CRIM : 지역별 범죄 발생률<br><br>\n",
    "- ZN : 25,000 평방 피트를 초과하는 거주 지역의 비율<br><br>\n",
    "- INDUS : 비상업 지역 넓이 비율<br><br>\n",
    "- CHAS : 찰스강에 대한 더미 변수(강의 경계에 위치한 경우 1, 아니면 0)<br><br>\n",
    "- NOX : 일산화질소 농도<br><br>\n",
    "- RM : 거주할 수 있는 방 개수<br><br>\n",
    "- AGE : 1940년 이전에 건축된 소유 주택의 비율<br><br>\n",
    "- DIS : 5개 주요 고용센터까지의 가중 거리<br><br>\n",
    "- RAD : 고속도로 접근 용이도<br><br>\n",
    "- TAX : 10,000 달러당 재산세율<br><br>\n",
    "- PTRATIO : 지역의 교사와 학생 수 비율<br><br>\n",
    "- B : 지역의 흑인 거주 비율<br><br>\n",
    "- LSTAT : 하위 계층의 비율<br><br>\n",
    "- target : 본인 소유의 주택 가격(중앙값)<br><br>"
   ]
  },
  {
   "cell_type": "code",
   "execution_count": 2,
   "metadata": {},
   "outputs": [],
   "source": [
    "y_target = bostonDF['PRICE']\n",
    "X_data = bostonDF.drop(['PRICE'], axis = 1, inplace = False)"
   ]
  },
  {
   "cell_type": "code",
   "execution_count": 62,
   "metadata": {},
   "outputs": [
    {
     "data": {
      "text/plain": [
       "<AxesSubplot:>"
      ]
     },
     "execution_count": 62,
     "metadata": {},
     "output_type": "execute_result"
    },
    {
     "data": {
      "image/png": "[encoded data removed]",
      "text/plain": [
       "<Figure size 1080x720 with 2 Axes>"
      ]
     },
     "metadata": {
      "needs_background": "light"
     },
     "output_type": "display_data"
    }
   ],
   "source": [
    "plt.figure(figsize=(15, 10))\n",
    "\n",
    "mask = np.zeros_like(X_data.corr(), dtype=np.bool)\n",
    "mask[np.triu_indices_from(mask)] = True\n",
    "\n",
    "sns.heatmap(X_data.corr(), \n",
    "            annot=True, \n",
    "            mask = mask,\n",
    "            cmap='RdBu',\n",
    "            linewidths=.5,\n",
    "            cbar_kws={'shrink': .5})"
   ]
  },
  {
   "cell_type": "markdown",
   "metadata": {},
   "source": [
    "- Linear Model"
   ]
  },
  {
   "cell_type": "code",
   "execution_count": 3,
   "metadata": {},
   "outputs": [
    {
     "name": "stdout",
     "output_type": "stream",
     "text": [
      "5 폴드 세트의 평균 RMSE : 5.829\n"
     ]
    },
    {
     "data": {
      "text/plain": [
       "RM          3.809865\n",
       "CHAS        2.686734\n",
       "RAD         0.306049\n",
       "ZN          0.046420\n",
       "INDUS       0.020559\n",
       "B           0.009312\n",
       "AGE         0.000692\n",
       "TAX        -0.012335\n",
       "CRIM       -0.108011\n",
       "LSTAT      -0.524758\n",
       "PTRATIO    -0.952747\n",
       "DIS        -1.475567\n",
       "NOX       -17.766611\n",
       "dtype: float64"
      ]
     },
     "execution_count": 3,
     "metadata": {},
     "output_type": "execute_result"
    }
   ],
   "source": [
    "model = LinearRegression()\n",
    "\n",
    "# cross_val_score는 가장 높은 값을 반환하는데 mse는 작은 값이 좋은 값이므로 neg mse를 구하고 -를 붙여 mse로 만든다\n",
    "neg_mse_scores = cross_val_score(model, X_data, y_target, scoring='neg_mean_squared_error', cv=5)\n",
    "\n",
    "avg_rmse = np.mean(np.sqrt(-1 * neg_mse_scores))\n",
    "\n",
    "print(f'5 폴드 세트의 평균 RMSE : {np.round(avg_rmse, 3)}')\n",
    "\n",
    "model.fit(X_data, y_target)\n",
    "\n",
    "coeff = pd.Series(data = model.coef_, index = X_data.columns)\n",
    "coeff.sort_values(ascending=False)"
   ]
  },
  {
   "cell_type": "code",
   "execution_count": 5,
   "metadata": {},
   "outputs": [],
   "source": [
    "def get_linear_reg_eval(model_name, params=None, X_data_n=None, y_target_n=None, verbose=True, return_coeff=True):\n",
    "    coeff_df = pd.DataFrame()\n",
    "    if verbose : print('######## ', model_name, ' ########')\n",
    "    for param in params:\n",
    "        if model_name == 'Ridge' :\n",
    "            model = Ridge(alpha=param)\n",
    "        elif model_name == 'Lasso':\n",
    "            model = Lasso(alpha=param)\n",
    "        elif model_name == 'ElasticNet':\n",
    "            model = ElasticNet(alpha=param, l1_ratio=0.5)\n",
    "        \n",
    "        neg_mse_scores = cross_val_score(model, X_data_n, y_target_n, scoring='neg_mean_squared_error', cv=5)\n",
    "\n",
    "        avg_rmse = np.mean(np.sqrt(-1 * neg_mse_scores))\n",
    "        print(f'alpha {param}일 때 5 폴드 세트의 평균 RMSE : {np.round(avg_rmse, 3)}')\n",
    "\n",
    "        model.fit(X_data_n, y_target_n)\n",
    "\n",
    "        if return_coeff:\n",
    "            coeff = pd.Series(data=model.coef_, index=X_data_n.columns)\n",
    "            colname = 'alpha : ' + str(param)\n",
    "            coeff_df[colname] = coeff\n",
    "    return coeff_df"
   ]
  },
  {
   "cell_type": "code",
   "execution_count": 6,
   "metadata": {},
   "outputs": [],
   "source": [
    "alphas = [0.07, 0.1, 0.5, 1, 3]"
   ]
  },
  {
   "cell_type": "markdown",
   "metadata": {},
   "source": [
    "- Ridge"
   ]
  },
  {
   "cell_type": "code",
   "execution_count": 22,
   "metadata": {},
   "outputs": [
    {
     "name": "stdout",
     "output_type": "stream",
     "text": [
      "########  Ridge  ########\n",
      "alpha 0.07일 때 5 폴드 세트의 평균 RMSE : 5.799\n",
      "alpha 0.1일 때 5 폴드 세트의 평균 RMSE : 5.788\n",
      "alpha 0.5일 때 5 폴드 세트의 평균 RMSE : 5.7\n",
      "alpha 1일 때 5 폴드 세트의 평균 RMSE : 5.653\n",
      "alpha 3일 때 5 폴드 세트의 평균 RMSE : 5.589\n"
     ]
    },
    {
     "data": {
      "text/html": [
       "<div>\n",
       "<style scoped>\n",
       "    .dataframe tbody tr th:only-of-type {\n",
       "        vertical-align: middle;\n",
       "    }\n",
       "\n",
       "    .dataframe tbody tr th {\n",
       "        vertical-align: top;\n",
       "    }\n",
       "\n",
       "    .dataframe thead th {\n",
       "        text-align: right;\n",
       "    }\n",
       "</style>\n",
       "<table border=\"1\" class=\"dataframe\">\n",
       "  <thead>\n",
       "    <tr style=\"text-align: right;\">\n",
       "      <th></th>\n",
       "      <th>alpha : 0.07</th>\n",
       "      <th>alpha : 0.1</th>\n",
       "      <th>alpha : 0.5</th>\n",
       "      <th>alpha : 1</th>\n",
       "      <th>alpha : 3</th>\n",
       "    </tr>\n",
       "  </thead>\n",
       "  <tbody>\n",
       "    <tr>\n",
       "      <th>RM</th>\n",
       "      <td>3.815869</td>\n",
       "      <td>3.818233</td>\n",
       "      <td>3.840757</td>\n",
       "      <td>3.854000</td>\n",
       "      <td>3.847645</td>\n",
       "    </tr>\n",
       "    <tr>\n",
       "      <th>CHAS</th>\n",
       "      <td>2.674915</td>\n",
       "      <td>2.670019</td>\n",
       "      <td>2.612117</td>\n",
       "      <td>2.552393</td>\n",
       "      <td>2.371317</td>\n",
       "    </tr>\n",
       "    <tr>\n",
       "      <th>RAD</th>\n",
       "      <td>0.304241</td>\n",
       "      <td>0.303515</td>\n",
       "      <td>0.295989</td>\n",
       "      <td>0.290142</td>\n",
       "      <td>0.280973</td>\n",
       "    </tr>\n",
       "    <tr>\n",
       "      <th>ZN</th>\n",
       "      <td>0.046528</td>\n",
       "      <td>0.046572</td>\n",
       "      <td>0.047041</td>\n",
       "      <td>0.047443</td>\n",
       "      <td>0.048304</td>\n",
       "    </tr>\n",
       "    <tr>\n",
       "      <th>INDUS</th>\n",
       "      <td>0.017307</td>\n",
       "      <td>0.015999</td>\n",
       "      <td>0.002252</td>\n",
       "      <td>-0.008805</td>\n",
       "      <td>-0.028456</td>\n",
       "    </tr>\n",
       "    <tr>\n",
       "      <th>B</th>\n",
       "      <td>0.009352</td>\n",
       "      <td>0.009368</td>\n",
       "      <td>0.009538</td>\n",
       "      <td>0.009673</td>\n",
       "      <td>0.009908</td>\n",
       "    </tr>\n",
       "    <tr>\n",
       "      <th>AGE</th>\n",
       "      <td>0.000006</td>\n",
       "      <td>-0.000269</td>\n",
       "      <td>-0.003144</td>\n",
       "      <td>-0.005415</td>\n",
       "      <td>-0.009189</td>\n",
       "    </tr>\n",
       "    <tr>\n",
       "      <th>TAX</th>\n",
       "      <td>-0.012396</td>\n",
       "      <td>-0.012421</td>\n",
       "      <td>-0.012686</td>\n",
       "      <td>-0.012912</td>\n",
       "      <td>-0.013379</td>\n",
       "    </tr>\n",
       "    <tr>\n",
       "      <th>CRIM</th>\n",
       "      <td>-0.107628</td>\n",
       "      <td>-0.107474</td>\n",
       "      <td>-0.105866</td>\n",
       "      <td>-0.104595</td>\n",
       "      <td>-0.102470</td>\n",
       "    </tr>\n",
       "    <tr>\n",
       "      <th>LSTAT</th>\n",
       "      <td>-0.525617</td>\n",
       "      <td>-0.525966</td>\n",
       "      <td>-0.529832</td>\n",
       "      <td>-0.533343</td>\n",
       "      <td>-0.542009</td>\n",
       "    </tr>\n",
       "    <tr>\n",
       "      <th>PTRATIO</th>\n",
       "      <td>-0.944196</td>\n",
       "      <td>-0.940759</td>\n",
       "      <td>-0.904760</td>\n",
       "      <td>-0.876074</td>\n",
       "      <td>-0.826724</td>\n",
       "    </tr>\n",
       "    <tr>\n",
       "      <th>DIS</th>\n",
       "      <td>-1.464200</td>\n",
       "      <td>-1.459626</td>\n",
       "      <td>-1.411491</td>\n",
       "      <td>-1.372654</td>\n",
       "      <td>-1.302931</td>\n",
       "    </tr>\n",
       "    <tr>\n",
       "      <th>NOX</th>\n",
       "      <td>-16.995144</td>\n",
       "      <td>-16.684645</td>\n",
       "      <td>-13.416261</td>\n",
       "      <td>-10.777015</td>\n",
       "      <td>-6.030391</td>\n",
       "    </tr>\n",
       "  </tbody>\n",
       "</table>\n",
       "</div>"
      ],
      "text/plain": [
       "         alpha : 0.07  alpha : 0.1  alpha : 0.5  alpha : 1  alpha : 3\n",
       "RM           3.815869     3.818233     3.840757   3.854000   3.847645\n",
       "CHAS         2.674915     2.670019     2.612117   2.552393   2.371317\n",
       "RAD          0.304241     0.303515     0.295989   0.290142   0.280973\n",
       "ZN           0.046528     0.046572     0.047041   0.047443   0.048304\n",
       "INDUS        0.017307     0.015999     0.002252  -0.008805  -0.028456\n",
       "B            0.009352     0.009368     0.009538   0.009673   0.009908\n",
       "AGE          0.000006    -0.000269    -0.003144  -0.005415  -0.009189\n",
       "TAX         -0.012396    -0.012421    -0.012686  -0.012912  -0.013379\n",
       "CRIM        -0.107628    -0.107474    -0.105866  -0.104595  -0.102470\n",
       "LSTAT       -0.525617    -0.525966    -0.529832  -0.533343  -0.542009\n",
       "PTRATIO     -0.944196    -0.940759    -0.904760  -0.876074  -0.826724\n",
       "DIS         -1.464200    -1.459626    -1.411491  -1.372654  -1.302931\n",
       "NOX        -16.995144   -16.684645   -13.416261 -10.777015  -6.030391"
      ]
     },
     "execution_count": 22,
     "metadata": {},
     "output_type": "execute_result"
    }
   ],
   "source": [
    "coeff_ridge_df = get_linear_reg_eval('Ridge', params=alphas, X_data_n = X_data, y_target_n = y_target)\n",
    "\n",
    "sort_column = 'alpha : ' + str(alphas[0])\n",
    "coeff_ridge_df.sort_values(by=sort_column, ascending=False)"
   ]
  },
  {
   "cell_type": "markdown",
   "metadata": {},
   "source": [
    "- Lasso"
   ]
  },
  {
   "cell_type": "code",
   "execution_count": 12,
   "metadata": {},
   "outputs": [
    {
     "name": "stdout",
     "output_type": "stream",
     "text": [
      "########  Lasso  ########\n",
      "alpha 0.07일 때 5 폴드 세트의 평균 RMSE : 5.612\n",
      "alpha 0.1일 때 5 폴드 세트의 평균 RMSE : 5.615\n",
      "alpha 0.5일 때 5 폴드 세트의 평균 RMSE : 5.669\n",
      "alpha 1일 때 5 폴드 세트의 평균 RMSE : 5.776\n",
      "alpha 3일 때 5 폴드 세트의 평균 RMSE : 6.189\n"
     ]
    },
    {
     "data": {
      "text/html": [
       "<div>\n",
       "<style scoped>\n",
       "    .dataframe tbody tr th:only-of-type {\n",
       "        vertical-align: middle;\n",
       "    }\n",
       "\n",
       "    .dataframe tbody tr th {\n",
       "        vertical-align: top;\n",
       "    }\n",
       "\n",
       "    .dataframe thead th {\n",
       "        text-align: right;\n",
       "    }\n",
       "</style>\n",
       "<table border=\"1\" class=\"dataframe\">\n",
       "  <thead>\n",
       "    <tr style=\"text-align: right;\">\n",
       "      <th></th>\n",
       "      <th>alpha : 0.07</th>\n",
       "      <th>alpha : 0.1</th>\n",
       "      <th>alpha : 0.5</th>\n",
       "      <th>alpha : 1</th>\n",
       "      <th>alpha : 3</th>\n",
       "    </tr>\n",
       "  </thead>\n",
       "  <tbody>\n",
       "    <tr>\n",
       "      <th>RM</th>\n",
       "      <td>3.789725</td>\n",
       "      <td>3.703202</td>\n",
       "      <td>2.498212</td>\n",
       "      <td>0.949811</td>\n",
       "      <td>0.000000</td>\n",
       "    </tr>\n",
       "    <tr>\n",
       "      <th>CHAS</th>\n",
       "      <td>1.434343</td>\n",
       "      <td>0.955190</td>\n",
       "      <td>0.000000</td>\n",
       "      <td>0.000000</td>\n",
       "      <td>0.000000</td>\n",
       "    </tr>\n",
       "    <tr>\n",
       "      <th>RAD</th>\n",
       "      <td>0.270936</td>\n",
       "      <td>0.274707</td>\n",
       "      <td>0.277451</td>\n",
       "      <td>0.264206</td>\n",
       "      <td>0.061864</td>\n",
       "    </tr>\n",
       "    <tr>\n",
       "      <th>ZN</th>\n",
       "      <td>0.049059</td>\n",
       "      <td>0.049211</td>\n",
       "      <td>0.049544</td>\n",
       "      <td>0.049165</td>\n",
       "      <td>0.037231</td>\n",
       "    </tr>\n",
       "    <tr>\n",
       "      <th>B</th>\n",
       "      <td>0.010248</td>\n",
       "      <td>0.010249</td>\n",
       "      <td>0.009469</td>\n",
       "      <td>0.008247</td>\n",
       "      <td>0.006510</td>\n",
       "    </tr>\n",
       "    <tr>\n",
       "      <th>NOX</th>\n",
       "      <td>-0.000000</td>\n",
       "      <td>-0.000000</td>\n",
       "      <td>-0.000000</td>\n",
       "      <td>-0.000000</td>\n",
       "      <td>0.000000</td>\n",
       "    </tr>\n",
       "    <tr>\n",
       "      <th>AGE</th>\n",
       "      <td>-0.011706</td>\n",
       "      <td>-0.010037</td>\n",
       "      <td>0.003604</td>\n",
       "      <td>0.020910</td>\n",
       "      <td>0.042495</td>\n",
       "    </tr>\n",
       "    <tr>\n",
       "      <th>TAX</th>\n",
       "      <td>-0.014290</td>\n",
       "      <td>-0.014570</td>\n",
       "      <td>-0.015442</td>\n",
       "      <td>-0.015212</td>\n",
       "      <td>-0.008602</td>\n",
       "    </tr>\n",
       "    <tr>\n",
       "      <th>INDUS</th>\n",
       "      <td>-0.042120</td>\n",
       "      <td>-0.036619</td>\n",
       "      <td>-0.005253</td>\n",
       "      <td>-0.000000</td>\n",
       "      <td>-0.000000</td>\n",
       "    </tr>\n",
       "    <tr>\n",
       "      <th>CRIM</th>\n",
       "      <td>-0.098193</td>\n",
       "      <td>-0.097894</td>\n",
       "      <td>-0.083289</td>\n",
       "      <td>-0.063437</td>\n",
       "      <td>-0.000000</td>\n",
       "    </tr>\n",
       "    <tr>\n",
       "      <th>LSTAT</th>\n",
       "      <td>-0.560431</td>\n",
       "      <td>-0.568769</td>\n",
       "      <td>-0.656290</td>\n",
       "      <td>-0.761115</td>\n",
       "      <td>-0.807679</td>\n",
       "    </tr>\n",
       "    <tr>\n",
       "      <th>PTRATIO</th>\n",
       "      <td>-0.765107</td>\n",
       "      <td>-0.770654</td>\n",
       "      <td>-0.758752</td>\n",
       "      <td>-0.722966</td>\n",
       "      <td>-0.265072</td>\n",
       "    </tr>\n",
       "    <tr>\n",
       "      <th>DIS</th>\n",
       "      <td>-1.176583</td>\n",
       "      <td>-1.160538</td>\n",
       "      <td>-0.936605</td>\n",
       "      <td>-0.668790</td>\n",
       "      <td>-0.000000</td>\n",
       "    </tr>\n",
       "  </tbody>\n",
       "</table>\n",
       "</div>"
      ],
      "text/plain": [
       "         alpha : 0.07  alpha : 0.1  alpha : 0.5  alpha : 1  alpha : 3\n",
       "RM           3.789725     3.703202     2.498212   0.949811   0.000000\n",
       "CHAS         1.434343     0.955190     0.000000   0.000000   0.000000\n",
       "RAD          0.270936     0.274707     0.277451   0.264206   0.061864\n",
       "ZN           0.049059     0.049211     0.049544   0.049165   0.037231\n",
       "B            0.010248     0.010249     0.009469   0.008247   0.006510\n",
       "NOX         -0.000000    -0.000000    -0.000000  -0.000000   0.000000\n",
       "AGE         -0.011706    -0.010037     0.003604   0.020910   0.042495\n",
       "TAX         -0.014290    -0.014570    -0.015442  -0.015212  -0.008602\n",
       "INDUS       -0.042120    -0.036619    -0.005253  -0.000000  -0.000000\n",
       "CRIM        -0.098193    -0.097894    -0.083289  -0.063437  -0.000000\n",
       "LSTAT       -0.560431    -0.568769    -0.656290  -0.761115  -0.807679\n",
       "PTRATIO     -0.765107    -0.770654    -0.758752  -0.722966  -0.265072\n",
       "DIS         -1.176583    -1.160538    -0.936605  -0.668790  -0.000000"
      ]
     },
     "execution_count": 12,
     "metadata": {},
     "output_type": "execute_result"
    }
   ],
   "source": [
    "coeff_lasso_df = get_linear_reg_eval('Lasso',  params=alphas, X_data_n = X_data, y_target_n = y_target)\n",
    "\n",
    "sort_column = 'alpha : ' + str(alphas[0])\n",
    "coeff_lasso_df.sort_values(by=sort_column, ascending=False)"
   ]
  },
  {
   "cell_type": "markdown",
   "metadata": {},
   "source": [
    "- Elastic Net"
   ]
  },
  {
   "cell_type": "code",
   "execution_count": 14,
   "metadata": {},
   "outputs": [
    {
     "name": "stdout",
     "output_type": "stream",
     "text": [
      "########  ElasticNet  ########\n",
      "alpha 0.07일 때 5 폴드 세트의 평균 RMSE : 5.503\n",
      "alpha 0.1일 때 5 폴드 세트의 평균 RMSE : 5.478\n",
      "alpha 0.5일 때 5 폴드 세트의 평균 RMSE : 5.413\n",
      "alpha 1일 때 5 폴드 세트의 평균 RMSE : 5.522\n",
      "alpha 3일 때 5 폴드 세트의 평균 RMSE : 5.954\n"
     ]
    },
    {
     "data": {
      "text/html": [
       "<div>\n",
       "<style scoped>\n",
       "    .dataframe tbody tr th:only-of-type {\n",
       "        vertical-align: middle;\n",
       "    }\n",
       "\n",
       "    .dataframe tbody tr th {\n",
       "        vertical-align: top;\n",
       "    }\n",
       "\n",
       "    .dataframe thead th {\n",
       "        text-align: right;\n",
       "    }\n",
       "</style>\n",
       "<table border=\"1\" class=\"dataframe\">\n",
       "  <thead>\n",
       "    <tr style=\"text-align: right;\">\n",
       "      <th></th>\n",
       "      <th>alpha : 0.07</th>\n",
       "      <th>alpha : 0.1</th>\n",
       "      <th>alpha : 0.5</th>\n",
       "      <th>alpha : 1</th>\n",
       "      <th>alpha : 3</th>\n",
       "    </tr>\n",
       "  </thead>\n",
       "  <tbody>\n",
       "    <tr>\n",
       "      <th>RM</th>\n",
       "      <td>3.445833</td>\n",
       "      <td>3.252662</td>\n",
       "      <td>1.723610</td>\n",
       "      <td>0.933936</td>\n",
       "      <td>0.000000</td>\n",
       "    </tr>\n",
       "    <tr>\n",
       "      <th>CHAS</th>\n",
       "      <td>1.287475</td>\n",
       "      <td>0.987970</td>\n",
       "      <td>0.000000</td>\n",
       "      <td>0.000000</td>\n",
       "      <td>0.000000</td>\n",
       "    </tr>\n",
       "    <tr>\n",
       "      <th>RAD</th>\n",
       "      <td>0.284007</td>\n",
       "      <td>0.288726</td>\n",
       "      <td>0.311583</td>\n",
       "      <td>0.301569</td>\n",
       "      <td>0.199147</td>\n",
       "    </tr>\n",
       "    <tr>\n",
       "      <th>ZN</th>\n",
       "      <td>0.050678</td>\n",
       "      <td>0.051377</td>\n",
       "      <td>0.054045</td>\n",
       "      <td>0.053240</td>\n",
       "      <td>0.046018</td>\n",
       "    </tr>\n",
       "    <tr>\n",
       "      <th>B</th>\n",
       "      <td>0.010035</td>\n",
       "      <td>0.009963</td>\n",
       "      <td>0.008997</td>\n",
       "      <td>0.008339</td>\n",
       "      <td>0.007271</td>\n",
       "    </tr>\n",
       "    <tr>\n",
       "      <th>AGE</th>\n",
       "      <td>-0.008997</td>\n",
       "      <td>-0.007219</td>\n",
       "      <td>0.009475</td>\n",
       "      <td>0.020579</td>\n",
       "      <td>0.038926</td>\n",
       "    </tr>\n",
       "    <tr>\n",
       "      <th>TAX</th>\n",
       "      <td>-0.014636</td>\n",
       "      <td>-0.014952</td>\n",
       "      <td>-0.016300</td>\n",
       "      <td>-0.016439</td>\n",
       "      <td>-0.013587</td>\n",
       "    </tr>\n",
       "    <tr>\n",
       "      <th>INDUS</th>\n",
       "      <td>-0.045733</td>\n",
       "      <td>-0.045901</td>\n",
       "      <td>-0.031702</td>\n",
       "      <td>-0.012657</td>\n",
       "      <td>-0.000000</td>\n",
       "    </tr>\n",
       "    <tr>\n",
       "      <th>CRIM</th>\n",
       "      <td>-0.100331</td>\n",
       "      <td>-0.100079</td>\n",
       "      <td>-0.092503</td>\n",
       "      <td>-0.080371</td>\n",
       "      <td>-0.040903</td>\n",
       "    </tr>\n",
       "    <tr>\n",
       "      <th>NOX</th>\n",
       "      <td>-0.484864</td>\n",
       "      <td>-0.059533</td>\n",
       "      <td>-0.000000</td>\n",
       "      <td>-0.000000</td>\n",
       "      <td>-0.000000</td>\n",
       "    </tr>\n",
       "    <tr>\n",
       "      <th>LSTAT</th>\n",
       "      <td>-0.582983</td>\n",
       "      <td>-0.598184</td>\n",
       "      <td>-0.706176</td>\n",
       "      <td>-0.758426</td>\n",
       "      <td>-0.794154</td>\n",
       "    </tr>\n",
       "    <tr>\n",
       "      <th>PTRATIO</th>\n",
       "      <td>-0.790069</td>\n",
       "      <td>-0.793502</td>\n",
       "      <td>-0.803835</td>\n",
       "      <td>-0.748046</td>\n",
       "      <td>-0.476192</td>\n",
       "    </tr>\n",
       "    <tr>\n",
       "      <th>DIS</th>\n",
       "      <td>-1.199548</td>\n",
       "      <td>-1.181402</td>\n",
       "      <td>-0.989655</td>\n",
       "      <td>-0.762044</td>\n",
       "      <td>-0.224409</td>\n",
       "    </tr>\n",
       "  </tbody>\n",
       "</table>\n",
       "</div>"
      ],
      "text/plain": [
       "         alpha : 0.07  alpha : 0.1  alpha : 0.5  alpha : 1  alpha : 3\n",
       "RM           3.445833     3.252662     1.723610   0.933936   0.000000\n",
       "CHAS         1.287475     0.987970     0.000000   0.000000   0.000000\n",
       "RAD          0.284007     0.288726     0.311583   0.301569   0.199147\n",
       "ZN           0.050678     0.051377     0.054045   0.053240   0.046018\n",
       "B            0.010035     0.009963     0.008997   0.008339   0.007271\n",
       "AGE         -0.008997    -0.007219     0.009475   0.020579   0.038926\n",
       "TAX         -0.014636    -0.014952    -0.016300  -0.016439  -0.013587\n",
       "INDUS       -0.045733    -0.045901    -0.031702  -0.012657  -0.000000\n",
       "CRIM        -0.100331    -0.100079    -0.092503  -0.080371  -0.040903\n",
       "NOX         -0.484864    -0.059533    -0.000000  -0.000000  -0.000000\n",
       "LSTAT       -0.582983    -0.598184    -0.706176  -0.758426  -0.794154\n",
       "PTRATIO     -0.790069    -0.793502    -0.803835  -0.748046  -0.476192\n",
       "DIS         -1.199548    -1.181402    -0.989655  -0.762044  -0.224409"
      ]
     },
     "execution_count": 14,
     "metadata": {},
     "output_type": "execute_result"
    }
   ],
   "source": [
    "coeff_elastic_df = get_linear_reg_eval('ElasticNet', params=alphas, X_data_n = X_data, y_target_n = y_target)\n",
    "\n",
    "sort_column = 'alpha : ' + str(alphas[0])\n",
    "coeff_elastic_df.sort_values(by=sort_column, ascending=False)"
   ]
  },
  {
   "cell_type": "markdown",
   "metadata": {},
   "source": [
    "# Coefficient"
   ]
  },
  {
   "cell_type": "markdown",
   "metadata": {},
   "source": [
    "- Ridge"
   ]
  },
  {
   "cell_type": "code",
   "execution_count": 16,
   "metadata": {},
   "outputs": [
    {
     "data": {
      "image/png": "[encoded data removed]",
      "text/plain": [
       "<Figure size 2160x720 with 6 Axes>"
      ]
     },
     "metadata": {
      "needs_background": "light"
     },
     "output_type": "display_data"
    }
   ],
   "source": [
    "fig, axs = plt.subplots(figsize=(30, 10), nrows=1, ncols=6)\n",
    "\n",
    "coeff_df = pd.DataFrame()\n",
    "\n",
    "for pos, alpha in enumerate(alphas):\n",
    "    ridge = Ridge(alpha = alpha)\n",
    "    ridge.fit(X_data, y_target)\n",
    "\n",
    "    coeff = pd.Series(data=ridge.coef_, index=X_data.columns)\n",
    "    colname='alpha:' + str(alpha)\n",
    "    coeff_df[colname] = coeff\n",
    "\n",
    "    coeff = coeff.sort_values(ascending=False)\n",
    "\n",
    "    axs[pos].set_title(colname)\n",
    "    axs[pos].set_xlim(-3, 6)\n",
    "    sns.barplot(x=coeff.values, y=coeff.index, ax=axs[pos])"
   ]
  },
  {
   "cell_type": "markdown",
   "metadata": {},
   "source": [
    "- Lasso"
   ]
  },
  {
   "cell_type": "code",
   "execution_count": 17,
   "metadata": {},
   "outputs": [
    {
     "data": {
      "image/png": "[encoded data removed]",
      "text/plain": [
       "<Figure size 2160x720 with 6 Axes>"
      ]
     },
     "metadata": {
      "needs_background": "light"
     },
     "output_type": "display_data"
    }
   ],
   "source": [
    "fig, axs = plt.subplots(figsize=(30, 10), nrows=1, ncols=6)\n",
    "\n",
    "coeff_df = pd.DataFrame()\n",
    "\n",
    "for pos, alpha in enumerate(alphas):\n",
    "    lasso = Lasso(alpha = alpha)\n",
    "    lasso.fit(X_data, y_target)\n",
    "\n",
    "    coeff = pd.Series(data=lasso.coef_, index=X_data.columns)\n",
    "    colname='alpha:' + str(alpha)\n",
    "    coeff_df[colname] = coeff\n",
    "\n",
    "    coeff = coeff.sort_values(ascending=False)\n",
    "\n",
    "    axs[pos].set_title(colname)\n",
    "    axs[pos].set_xlim(-1, 4)\n",
    "    sns.barplot(x=coeff.values, y=coeff.index, ax=axs[pos])"
   ]
  },
  {
   "cell_type": "markdown",
   "metadata": {},
   "source": [
    "- ElasticNet"
   ]
  },
  {
   "cell_type": "code",
   "execution_count": 21,
   "metadata": {},
   "outputs": [
    {
     "data": {
      "image/png": "[encoded data removed]",
      "text/plain": [
       "<Figure size 2160x720 with 6 Axes>"
      ]
     },
     "metadata": {
      "needs_background": "light"
     },
     "output_type": "display_data"
    }
   ],
   "source": [
    "fig, axs = plt.subplots(figsize=(30, 10), nrows=1, ncols=6)\n",
    "\n",
    "coeff_df = pd.DataFrame()\n",
    "\n",
    "for pos, alpha in enumerate(alphas):\n",
    "    elastic = ElasticNet(alpha = alpha, l1_ratio=1)\n",
    "    elastic.fit(X_data, y_target)\n",
    "\n",
    "    coeff = pd.Series(data=elastic.coef_, index=X_data.columns)\n",
    "    colname='alpha:' + str(alpha)\n",
    "    coeff_df[colname] = coeff\n",
    "\n",
    "    coeff = coeff.sort_values(ascending=False)\n",
    "\n",
    "    axs[pos].set_title(colname)\n",
    "    axs[pos].set_xlim(-1, 5)\n",
    "    sns.barplot(x=coeff.values, y=coeff.index, ax=axs[pos])"
   ]
  }
 ],
 "metadata": {
  "kernelspec": {
   "display_name": "Python 3.9.7 ('base')",
   "language": "python",
   "name": "python3"
  },
  "language_info": {
   "codemirror_mode": {
    "name": "ipython",
    "version": 3
   },
   "file_extension": ".py",
   "mimetype": "text/x-python",
   "name": "python",
   "nbconvert_exporter": "python",
   "pygments_lexer": "ipython3",
   "version": "3.9.7"
  },
  "orig_nbformat": 4,
  "vscode": {
   "interpreter": {
    "hash": "a077222d77dfe082b8f1dd562ad70e458ac2ab76993a0b248ab0476e32e9e8dd"
   }
  }
 },
 "nbformat": 4,
 "nbformat_minor": 2
}
