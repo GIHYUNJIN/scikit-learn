{
 "cells": [
  {
   "cell_type": "markdown",
   "metadata": {},
   "source": [
    "# scikit-learn User Guide\n",
    "\n",
    "https://scikit-learn.org/stable/user_guide.html"
   ]
  },
  {
   "cell_type": "markdown",
   "metadata": {},
   "source": [
    "# 1.1. Linear Models"
   ]
  },
  {
   "cell_type": "markdown",
   "metadata": {},
   "source": [
    "Linear Models(선형 모델)은 종속변수(y)와 독립변수(x)간의 관계를 선형결합으로 표현한 식을 말합니다.\n",
    "\n",
    "$ \\hat{y}(w,x) = w_0 + w_1x_1 + ... + w_px_p $\n",
    "\n",
    "일반적으로 최소제곱법을 사용하여 회귀계수, 가중치($w$)를 추정해 선형 모델을 세웁니다."
   ]
  },
  {
   "cell_type": "markdown",
   "metadata": {},
   "source": [
    "## 1.1.1. Ordinary Least Squares"
   ]
  },
  {
   "cell_type": "markdown",
   "metadata": {},
   "source": [
    "최소제곱법(OLS : Ordinary Least Squares)은 잔차 제곱합(RSS : Residual Sum of Squares)을 최소화하는 회귀 계수($w$)를 구하는 방법입니다.<br>\n",
    "\n",
    "$\\min_{w} || X w - y||_2^2$\n",
    "\n",
    "쉽게 말해 관측값과 예측값의 차이를 최소화 한다고 생각하면 됩니다."
   ]
  },
  {
   "cell_type": "markdown",
   "metadata": {},
   "source": [
    "### Example) Linear Regression Example\n",
    "- 이 예제에서는 당뇨병 Data Set을 이용해 선형 모델이 Data Set에서 관찰된 y값과 예측된 y값 사이의 잔차 제곱합을 가장 잘 최소화 하는 직선을 그리는 방법을 확인할 수 있습니다."
   ]
  },
  {
   "cell_type": "code",
   "execution_count": 26,
   "metadata": {},
   "outputs": [],
   "source": [
    "import matplotlib.pyplot as plt\n",
    "import numpy as np\n",
    "from sklearn import linear_model\n",
    "from sklearn.datasets import load_diabetes\n",
    "from sklearn.metrics import mean_squared_error, r2_score"
   ]
  },
  {
   "cell_type": "code",
   "execution_count": 27,
   "metadata": {},
   "outputs": [
    {
     "data": {
      "text/plain": [
       "{'data': array([[ 0.03807591,  0.05068012,  0.06169621, ..., -0.00259226,\n",
       "          0.01990842, -0.01764613],\n",
       "        [-0.00188202, -0.04464164, -0.05147406, ..., -0.03949338,\n",
       "         -0.06832974, -0.09220405],\n",
       "        [ 0.08529891,  0.05068012,  0.04445121, ..., -0.00259226,\n",
       "          0.00286377, -0.02593034],\n",
       "        ...,\n",
       "        [ 0.04170844,  0.05068012, -0.01590626, ..., -0.01107952,\n",
       "         -0.04687948,  0.01549073],\n",
       "        [-0.04547248, -0.04464164,  0.03906215, ...,  0.02655962,\n",
       "          0.04452837, -0.02593034],\n",
       "        [-0.04547248, -0.04464164, -0.0730303 , ..., -0.03949338,\n",
       "         -0.00421986,  0.00306441]]),\n",
       " 'target': array([151.,  75., 141., 206., 135.,  97., 138.,  63., 110., 310., 101.,\n",
       "         69., 179., 185., 118., 171., 166., 144.,  97., 168.,  68.,  49.,\n",
       "         68., 245., 184., 202., 137.,  85., 131., 283., 129.,  59., 341.,\n",
       "         87.,  65., 102., 265., 276., 252.,  90., 100.,  55.,  61.,  92.,\n",
       "        259.,  53., 190., 142.,  75., 142., 155., 225.,  59., 104., 182.,\n",
       "        128.,  52.,  37., 170., 170.,  61., 144.,  52., 128.,  71., 163.,\n",
       "        150.,  97., 160., 178.,  48., 270., 202., 111.,  85.,  42., 170.,\n",
       "        200., 252., 113., 143.,  51.,  52., 210.,  65., 141.,  55., 134.,\n",
       "         42., 111.,  98., 164.,  48.,  96.,  90., 162., 150., 279.,  92.,\n",
       "         83., 128., 102., 302., 198.,  95.,  53., 134., 144., 232.,  81.,\n",
       "        104.,  59., 246., 297., 258., 229., 275., 281., 179., 200., 200.,\n",
       "        173., 180.,  84., 121., 161.,  99., 109., 115., 268., 274., 158.,\n",
       "        107.,  83., 103., 272.,  85., 280., 336., 281., 118., 317., 235.,\n",
       "         60., 174., 259., 178., 128.,  96., 126., 288.,  88., 292.,  71.,\n",
       "        197., 186.,  25.,  84.,  96., 195.,  53., 217., 172., 131., 214.,\n",
       "         59.,  70., 220., 268., 152.,  47.,  74., 295., 101., 151., 127.,\n",
       "        237., 225.,  81., 151., 107.,  64., 138., 185., 265., 101., 137.,\n",
       "        143., 141.,  79., 292., 178.,  91., 116.,  86., 122.,  72., 129.,\n",
       "        142.,  90., 158.,  39., 196., 222., 277.,  99., 196., 202., 155.,\n",
       "         77., 191.,  70.,  73.,  49.,  65., 263., 248., 296., 214., 185.,\n",
       "         78.,  93., 252., 150.,  77., 208.,  77., 108., 160.,  53., 220.,\n",
       "        154., 259.,  90., 246., 124.,  67.,  72., 257., 262., 275., 177.,\n",
       "         71.,  47., 187., 125.,  78.,  51., 258., 215., 303., 243.,  91.,\n",
       "        150., 310., 153., 346.,  63.,  89.,  50.,  39., 103., 308., 116.,\n",
       "        145.,  74.,  45., 115., 264.,  87., 202., 127., 182., 241.,  66.,\n",
       "         94., 283.,  64., 102., 200., 265.,  94., 230., 181., 156., 233.,\n",
       "         60., 219.,  80.,  68., 332., 248.,  84., 200.,  55.,  85.,  89.,\n",
       "         31., 129.,  83., 275.,  65., 198., 236., 253., 124.,  44., 172.,\n",
       "        114., 142., 109., 180., 144., 163., 147.,  97., 220., 190., 109.,\n",
       "        191., 122., 230., 242., 248., 249., 192., 131., 237.,  78., 135.,\n",
       "        244., 199., 270., 164.,  72.,  96., 306.,  91., 214.,  95., 216.,\n",
       "        263., 178., 113., 200., 139., 139.,  88., 148.,  88., 243.,  71.,\n",
       "         77., 109., 272.,  60.,  54., 221.,  90., 311., 281., 182., 321.,\n",
       "         58., 262., 206., 233., 242., 123., 167.,  63., 197.,  71., 168.,\n",
       "        140., 217., 121., 235., 245.,  40.,  52., 104., 132.,  88.,  69.,\n",
       "        219.,  72., 201., 110.,  51., 277.,  63., 118.,  69., 273., 258.,\n",
       "         43., 198., 242., 232., 175.,  93., 168., 275., 293., 281.,  72.,\n",
       "        140., 189., 181., 209., 136., 261., 113., 131., 174., 257.,  55.,\n",
       "         84.,  42., 146., 212., 233.,  91., 111., 152., 120.,  67., 310.,\n",
       "         94., 183.,  66., 173.,  72.,  49.,  64.,  48., 178., 104., 132.,\n",
       "        220.,  57.]),\n",
       " 'frame': None,\n",
       " 'DESCR': '.. _diabetes_dataset:\\n\\nDiabetes dataset\\n----------------\\n\\nTen baseline variables, age, sex, body mass index, average blood\\npressure, and six blood serum measurements were obtained for each of n =\\n442 diabetes patients, as well as the response of interest, a\\nquantitative measure of disease progression one year after baseline.\\n\\n**Data Set Characteristics:**\\n\\n  :Number of Instances: 442\\n\\n  :Number of Attributes: First 10 columns are numeric predictive values\\n\\n  :Target: Column 11 is a quantitative measure of disease progression one year after baseline\\n\\n  :Attribute Information:\\n      - age     age in years\\n      - sex\\n      - bmi     body mass index\\n      - bp      average blood pressure\\n      - s1      tc, total serum cholesterol\\n      - s2      ldl, low-density lipoproteins\\n      - s3      hdl, high-density lipoproteins\\n      - s4      tch, total cholesterol / HDL\\n      - s5      ltg, possibly log of serum triglycerides level\\n      - s6      glu, blood sugar level\\n\\nNote: Each of these 10 feature variables have been mean centered and scaled by the standard deviation times `n_samples` (i.e. the sum of squares of each column totals 1).\\n\\nSource URL:\\nhttps://www4.stat.ncsu.edu/~boos/var.select/diabetes.html\\n\\nFor more information see:\\nBradley Efron, Trevor Hastie, Iain Johnstone and Robert Tibshirani (2004) \"Least Angle Regression,\" Annals of Statistics (with discussion), 407-499.\\n(https://web.stanford.edu/~hastie/Papers/LARS/LeastAngle_2002.pdf)',\n",
       " 'feature_names': ['age',\n",
       "  'sex',\n",
       "  'bmi',\n",
       "  'bp',\n",
       "  's1',\n",
       "  's2',\n",
       "  's3',\n",
       "  's4',\n",
       "  's5',\n",
       "  's6'],\n",
       " 'data_filename': 'diabetes_data.csv.gz',\n",
       " 'target_filename': 'diabetes_target.csv.gz',\n",
       " 'data_module': 'sklearn.datasets.data'}"
      ]
     },
     "execution_count": 27,
     "metadata": {},
     "output_type": "execute_result"
    }
   ],
   "source": [
    "data = load_diabetes()\n",
    "data"
   ]
  },
  {
   "cell_type": "code",
   "execution_count": 28,
   "metadata": {},
   "outputs": [
    {
     "name": "stdout",
     "output_type": "stream",
     "text": [
      "dict_keys(['data', 'target', 'frame', 'DESCR', 'feature_names', 'data_filename', 'target_filename', 'data_module'])\n",
      "data : ['age', 'sex', 'bmi', 'bp', 's1', 's2', 's3', 's4', 's5', 's6']\n"
     ]
    }
   ],
   "source": [
    "print(data.keys())\n",
    "print(f'data : {data.feature_names}')"
   ]
  },
  {
   "cell_type": "code",
   "execution_count": 29,
   "metadata": {},
   "outputs": [
    {
     "name": "stdout",
     "output_type": "stream",
     "text": [
      "(442, 1) (442,)\n"
     ]
    }
   ],
   "source": [
    "# data load\n",
    "diabetes_X, diabetes_y = load_diabetes(return_X_y=True)\n",
    "\n",
    "# use only one feature(bmi)\n",
    "diabetes_X = diabetes_X[:, np.newaxis, 2]\n",
    "\n",
    "print(diabetes_X.shape, diabetes_y.shape)"
   ]
  },
  {
   "cell_type": "code",
   "execution_count": 30,
   "metadata": {},
   "outputs": [
    {
     "name": "stdout",
     "output_type": "stream",
     "text": [
      "(422, 1) (20, 1) (422,) (20,)\n"
     ]
    }
   ],
   "source": [
    "# train, test split\n",
    "diabetes_X_train, diabetes_X_test = diabetes_X[:-20], diabetes_X[-20:]\n",
    "diabetes_y_train, diabetes_y_test = diabetes_y[:-20], diabetes_y[-20:]\n",
    "\n",
    "print(diabetes_X_train.shape, diabetes_X_test.shape, diabetes_y_train.shape, diabetes_y_test.shape)"
   ]
  },
  {
   "cell_type": "code",
   "execution_count": 31,
   "metadata": {},
   "outputs": [
    {
     "data": {
      "image/png": "[encoded data removed]",
      "text/plain": [
       "<Figure size 720x720 with 1 Axes>"
      ]
     },
     "metadata": {
      "needs_background": "light"
     },
     "output_type": "display_data"
    }
   ],
   "source": [
    "plt.rcParams[\"figure.figsize\"] = (10, 10)\n",
    "plt.scatter(diabetes_X_test, diabetes_y_test, color='black')\n",
    "plt.show()"
   ]
  },
  {
   "cell_type": "code",
   "execution_count": 32,
   "metadata": {},
   "outputs": [
    {
     "data": {
      "image/png": "[encoded data removed]",
      "text/plain": [
       "<Figure size 720x720 with 1 Axes>"
      ]
     },
     "metadata": {
      "needs_background": "light"
     },
     "output_type": "display_data"
    }
   ],
   "source": [
    "import random\n",
    "\n",
    "plt.scatter(diabetes_X_test, diabetes_y_test, color='black')\n",
    "plt.plot([-0.08, 0.1], [random.randint(50,150), random.randint(150,300)])\n",
    "plt.plot([-0.08, 0.1], [random.randint(50,150), random.randint(150,300)])\n",
    "plt.plot([-0.08, 0.1], [random.randint(50,150), random.randint(150,300)])\n",
    "plt.show()"
   ]
  },
  {
   "cell_type": "code",
   "execution_count": 33,
   "metadata": {},
   "outputs": [],
   "source": [
    "# create linear regression object\n",
    "regr = linear_model.LinearRegression()\n",
    "\n",
    "# training\n",
    "regr.fit(diabetes_X_train, diabetes_y_train)\n",
    "\n",
    "# make predictions\n",
    "diabetes_y_pred = regr.predict(diabetes_X_test)"
   ]
  },
  {
   "cell_type": "code",
   "execution_count": 34,
   "metadata": {},
   "outputs": [
    {
     "name": "stdout",
     "output_type": "stream",
     "text": [
      "Coefficients : [938.23786125]\n",
      "Mean Squared Error : 2548.0723987259703\n",
      "Coefficient of determination : 0.47257544798227136\n"
     ]
    },
    {
     "data": {
      "image/png": "[encoded data removed]",
      "text/plain": [
       "<Figure size 720x720 with 1 Axes>"
      ]
     },
     "metadata": {
      "needs_background": "light"
     },
     "output_type": "display_data"
    }
   ],
   "source": [
    "# coefficients\n",
    "print(f'Coefficients : {regr.coef_}')\n",
    "\n",
    "# mean squared error\n",
    "print(f'Mean Squared Error : {mean_squared_error(diabetes_y_test, diabetes_y_pred)}')\n",
    "\n",
    "# coefficient of determination\n",
    "print(f'Coefficient of determination : {r2_score(diabetes_y_test, diabetes_y_pred)}')\n",
    "\n",
    "# plot output\n",
    "plt.scatter(diabetes_X_test, diabetes_y_test, color='black')\n",
    "plt.plot(diabetes_X_test, diabetes_y_pred, color = 'blue')\n",
    "plt.show()"
   ]
  },
  {
   "cell_type": "markdown",
   "metadata": {},
   "source": [
    "### 1.1.1.1. Non-Negative Least Squares"
   ]
  },
  {
   "cell_type": "markdown",
   "metadata": {},
   "source": [
    "NNLS(Non-Negative Least Squares)란 최소제곱법에서 회귀 계수(W)가 음수가 되는 것을 혀용하지 않는 방법입니다.<br>\n",
    "독립변수가 빈도수나 상품가격 등을 나타낼 때 사용할 수 있습니다.<br>\n",
    "scikit-learn의 LinearRegression()의 positive 매개변수를 True로 설정하면 NNLS가 적용 됩니다. <br>"
   ]
  },
  {
   "cell_type": "markdown",
   "metadata": {},
   "source": [
    "### Example) Non-negative least squares\n",
    "- 회귀 계수에 대한 NNLS으로 추정한 선형모델을 fitting하고 OLS 선형 모델과 비교합니다."
   ]
  },
  {
   "cell_type": "code",
   "execution_count": 35,
   "metadata": {},
   "outputs": [],
   "source": [
    "import numpy as np\n",
    "import matplotlib.pyplot as plt\n",
    "from sklearn.metrics import r2_score"
   ]
  },
  {
   "cell_type": "code",
   "execution_count": 36,
   "metadata": {},
   "outputs": [],
   "source": [
    "# seed 설정\n",
    "np.random.seed(42)\n",
    "\n",
    "n_samples, n_features = 200, 50\n",
    "X = np.random.randn(n_samples, n_features) # shape == (200, 50)\n",
    "true_coef = 3 * np.random.randn(n_features) # shape == (50,)\n",
    "\n",
    "# # 양의 제약조건을 설정\n",
    "# true_coef[true_coef < 0] = 0\n",
    "# y = np.dot(X, true_coef)\n",
    "\n",
    "# # noise 추가\n",
    "# y += 5 * np.random.normal(size=(n_samples,))"
   ]
  },
  {
   "cell_type": "code",
   "execution_count": 37,
   "metadata": {},
   "outputs": [
    {
     "data": {
      "text/plain": [
       "array([-2.03548419, -0.91649839, -1.79214318,  0.33125414,  3.59153559,\n",
       "       -2.31312647,  3.00246149, -2.34501622, -2.54288164,  2.45578386,\n",
       "        2.76580913,  2.55422981, -3.94739222, -1.39785293,  2.46896578,\n",
       "        0.12462552, -3.22107854,  1.37495382, -2.14442178,  5.38357455,\n",
       "        4.63452439,  1.81229228,  4.08302011,  0.19437405,  2.29631248,\n",
       "        4.43316089,  0.73649605, -0.76556151, -5.11386587, -0.24940058,\n",
       "        2.47026955,  2.83690028,  1.5130952 , -1.62389728, -5.93046471,\n",
       "       -1.48564529, -0.91303461, -0.9387869 ,  1.85566907,  5.95702923,\n",
       "        0.37058761, -0.65019537, -0.77766544,  0.3731543 , -2.48488128,\n",
       "        0.36059568,  1.35243701,  0.62905819,  1.3726258 ,  1.30124283])"
      ]
     },
     "execution_count": 37,
     "metadata": {},
     "output_type": "execute_result"
    }
   ],
   "source": [
    "true_coef"
   ]
  },
  {
   "cell_type": "code",
   "execution_count": 38,
   "metadata": {},
   "outputs": [],
   "source": [
    "true_coef[true_coef < 0] = 0"
   ]
  },
  {
   "cell_type": "code",
   "execution_count": 39,
   "metadata": {},
   "outputs": [
    {
     "data": {
      "text/plain": [
       "array([0.        , 0.        , 0.        , 0.33125414, 3.59153559,\n",
       "       0.        , 3.00246149, 0.        , 0.        , 2.45578386,\n",
       "       2.76580913, 2.55422981, 0.        , 0.        , 2.46896578,\n",
       "       0.12462552, 0.        , 1.37495382, 0.        , 5.38357455,\n",
       "       4.63452439, 1.81229228, 4.08302011, 0.19437405, 2.29631248,\n",
       "       4.43316089, 0.73649605, 0.        , 0.        , 0.        ,\n",
       "       2.47026955, 2.83690028, 1.5130952 , 0.        , 0.        ,\n",
       "       0.        , 0.        , 0.        , 1.85566907, 5.95702923,\n",
       "       0.37058761, 0.        , 0.        , 0.3731543 , 0.        ,\n",
       "       0.36059568, 1.35243701, 0.62905819, 1.3726258 , 1.30124283])"
      ]
     },
     "execution_count": 39,
     "metadata": {},
     "output_type": "execute_result"
    }
   ],
   "source": [
    "true_coef"
   ]
  },
  {
   "cell_type": "code",
   "execution_count": 40,
   "metadata": {},
   "outputs": [],
   "source": [
    "y = np.dot(X, true_coef)"
   ]
  },
  {
   "cell_type": "code",
   "execution_count": 41,
   "metadata": {},
   "outputs": [],
   "source": [
    "y += 5 * np.random.normal(size=(n_samples,))"
   ]
  },
  {
   "cell_type": "code",
   "execution_count": 42,
   "metadata": {},
   "outputs": [
    {
     "data": {
      "text/plain": [
       "array([-11.73993785,  11.99387733,   3.67967746, -14.47733292,\n",
       "        22.95498526,  11.47728389, -11.1597392 ,  -6.93628868,\n",
       "         3.49925795, -19.03570458, -27.44783309,  -1.65387641,\n",
       "         9.37271924,  16.15137932, -16.08774282,   0.21941857,\n",
       "        12.88891322,  25.71749034,  -0.94583421,  -2.66443281,\n",
       "        25.69937351, -14.97712085,  38.34596737,  16.00191223,\n",
       "        12.29651329,  10.38411771,  -6.02984107, -13.95840778,\n",
       "        11.20520408,  18.89659586,  10.30511146,  -3.82108046,\n",
       "        10.71128794,  18.77292476,  25.17437124,   8.58023288,\n",
       "       -11.60662609,  13.22446662,  -9.43498903,  -0.34920997,\n",
       "       -29.98283297,   6.71781179, -19.04438157,   2.28162485,\n",
       "         0.42528554,   5.78181474,  13.59551828,  10.00855387,\n",
       "        -8.15987816,   8.31707376,  14.66654086, -14.28933618,\n",
       "         2.79637953, -13.48952575,  31.53431222,  -9.01033002,\n",
       "        -3.40244695, -18.28840336,  -6.30951027,  10.84642067,\n",
       "        -9.54828686,  17.94864538, -15.15804804, -13.62150468,\n",
       "        -6.02261669,   7.05078335,  27.83657071,  -0.44987761,\n",
       "         1.30216938, -33.48391285,  -3.31234884,   9.66394091,\n",
       "        -2.48891299,   1.07726442, -18.78113209,  -3.24194577,\n",
       "       -14.38710059, -16.13926328,   8.35624496,   8.99107362,\n",
       "       -21.13397968,  -2.76847849,  -9.2933104 , -14.99885912,\n",
       "       -25.06475561, -10.36675676, -20.55911122, -13.2098876 ,\n",
       "       -13.7162408 ,  12.37721066,  11.46558804,  -8.06645125,\n",
       "       -43.92804556,  -1.13299052,  -2.98051037,  -9.21973101,\n",
       "       -23.88791467,  11.57024198,  -4.47736761,  15.27663244,\n",
       "        18.84282625,  -9.63872819,  -5.46020308,  -7.71922811,\n",
       "        22.75140933,  28.61893267,  -4.47478367, -30.06595236,\n",
       "       -16.54059872,  18.65915016, -10.45484718,   2.07766257,\n",
       "         3.43776326,   0.42826382, -29.75047655,   0.66344069,\n",
       "       -15.90330818, -22.28514435, -11.3317133 ,  19.59848279,\n",
       "        24.94753437,  14.26058615,   4.88549826,   6.25924889,\n",
       "         1.59901512,   8.80669448, -12.66172202,  14.157256  ,\n",
       "        -0.47079487, -10.52278606,   9.46195306,  21.47080978,\n",
       "       -11.7736229 ,   0.57810157,   6.70494761,   4.78781346,\n",
       "       -21.8600108 , -23.93762388, -20.01505066,  23.70544634,\n",
       "        -1.94888659,   9.96112057,   0.77949931,  -7.69676216,\n",
       "       -20.3175915 ,  11.24947693,  13.9479258 ,  36.77195206,\n",
       "         4.30434932,   4.10172107,  14.72845041, -16.01499077,\n",
       "        -9.30801379,   8.08891569,   7.94948016,  25.63965818,\n",
       "        12.61984691,  19.33929333,  22.44931519,  19.84651809,\n",
       "        -2.17721072,  -3.74506499,   0.42781079,  10.60248595,\n",
       "       -26.0427274 ,  -9.77765739,  15.11672266, -10.68509705,\n",
       "        17.72974064,  -2.95605717,   1.9641238 , -15.41279995,\n",
       "       -13.64295804,  21.67725845,  -1.72888004,   4.12222533,\n",
       "         3.44420931, -19.5768397 ,   3.21720543,   3.57528427,\n",
       "        10.81662244,   2.10840556,  14.08682217,   3.57959265,\n",
       "       -22.11761943, -11.41601692,   6.88606494,  -6.65665114,\n",
       "        -9.51147874,   3.48388351,   9.74374615, -24.63941859,\n",
       "       -12.51546341,   9.64017455,   9.44025068, -42.6834658 ,\n",
       "       -26.84561999,  -1.74119185, -15.82165467,  -8.47760588])"
      ]
     },
     "execution_count": 42,
     "metadata": {},
     "output_type": "execute_result"
    }
   ],
   "source": [
    "y"
   ]
  },
  {
   "cell_type": "code",
   "execution_count": 43,
   "metadata": {},
   "outputs": [],
   "source": [
    "from sklearn.model_selection import train_test_split\n",
    "\n",
    "X_train, X_test, y_train, y_test = train_test_split(X, y, test_size=0.5)"
   ]
  },
  {
   "cell_type": "markdown",
   "metadata": {},
   "source": [
    "- NNLS Fitting"
   ]
  },
  {
   "cell_type": "code",
   "execution_count": 44,
   "metadata": {},
   "outputs": [
    {
     "name": "stdout",
     "output_type": "stream",
     "text": [
      "NNLS Coefficient : [1.03686461 0.         0.         0.         4.67234641 0.\n",
      " 2.62681264 0.38478851 0.69336723 2.32506932 2.92309675 1.83000387\n",
      " 0.         0.39652115 2.49308667 0.45647139 0.         1.54785098\n",
      " 0.07897252 5.24876537 5.18234002 1.91748832 3.75918102 0.46583565\n",
      " 1.7968634  4.58607638 2.30242438 0.74725317 0.         0.55826588\n",
      " 2.30791404 3.44282657 1.50652162 0.         0.15412043 0.33904986\n",
      " 0.15896728 0.05048814 0.88546063 7.674278   0.         0.\n",
      " 0.26898677 0.         0.66414423 0.84401139 0.75855987 0.79724836\n",
      " 0.         2.04036039]\n",
      "NNLS R2 score : 0.8225220806196525\n"
     ]
    }
   ],
   "source": [
    "from sklearn.linear_model import LinearRegression\n",
    "\n",
    "reg_nnls = LinearRegression(positive = True)\n",
    "y_pred_nnls = reg_nnls.fit(X_train, y_train).predict(X_test)\n",
    "r2_score_nnls = r2_score(y_test, y_pred_nnls)\n",
    "print(f'NNLS Coefficient : {reg_nnls.coef_}')\n",
    "print(f'NNLS R2 score : {r2_score_nnls}')"
   ]
  },
  {
   "cell_type": "markdown",
   "metadata": {},
   "source": [
    "- OLS fitting"
   ]
  },
  {
   "cell_type": "code",
   "execution_count": 45,
   "metadata": {},
   "outputs": [
    {
     "name": "stdout",
     "output_type": "stream",
     "text": [
      "OLS Coefficient : [ 1.28168513 -1.28844518  0.20226258  0.02500373  4.92539674 -0.52479853\n",
      "  2.4824517   0.95143469  1.0577752   2.50056662  2.58411112  1.96783647\n",
      " -0.47411806  0.41917169  2.94863573  0.4081959  -0.07420422  1.58777415\n",
      "  0.03620705  5.44999794  5.11784678  1.92551583  3.88275153  0.31266597\n",
      "  1.61481593  4.92665209  2.17729051  1.09759721 -1.11743953  0.44555934\n",
      "  2.2388151   3.31316639  1.17471279 -0.16978928 -0.0133825   0.35957287\n",
      "  0.51079989  0.38119072  1.03229206  8.14455627  0.02391242 -0.1007276\n",
      "  0.34018775 -1.06953636  0.82579495  0.73183734  0.78080548  0.4480477\n",
      " -0.01091276  2.41262826]\n",
      "OLS R2 score : 0.7436926291700343\n"
     ]
    }
   ],
   "source": [
    "reg_ols = LinearRegression()\n",
    "y_pred_ols = reg_ols.fit(X_train, y_train).predict(X_test)\n",
    "r2_score_ols = r2_score(y_test, y_pred_ols)\n",
    "print(f'OLS Coefficient : {reg_ols.coef_}')\n",
    "print(f'OLS R2 score : {r2_score_ols}')"
   ]
  },
  {
   "cell_type": "markdown",
   "metadata": {},
   "source": [
    "OLS와 NNLS 간의 회귀 계수를 비교하면 높은 상관 관계가 있음을 관찰할 수 있지만 NNLS는 일부를 0으로 축소합니다.<br>\n",
    "NNLS는 본질적으로 희소한 결과를 산출합니다."
   ]
  },
  {
   "cell_type": "code",
   "execution_count": 46,
   "metadata": {},
   "outputs": [
    {
     "data": {
      "text/plain": [
       "Text(0, 0.5, 'NNLS regression coefficients')"
      ]
     },
     "execution_count": 46,
     "metadata": {},
     "output_type": "execute_result"
    },
    {
     "data": {
      "image/png": "[encoded data removed]",
      "text/plain": [
       "<Figure size 720x720 with 1 Axes>"
      ]
     },
     "metadata": {
      "needs_background": "light"
     },
     "output_type": "display_data"
    }
   ],
   "source": [
    "fig, ax = plt.subplots()\n",
    "ax.plot(reg_ols.coef_, reg_nnls.coef_, linewidth=0, marker=\".\")\n",
    "\n",
    "low_x, high_x = ax.get_xlim()\n",
    "low_y, high_y = ax.get_ylim()\n",
    "low = max(low_x, low_y)\n",
    "high = min(high_x, high_y)\n",
    "ax.plot([low, high], [low, high], ls=\"--\", c=\".3\", alpha=0.5)\n",
    "ax.set_xlabel(\"OLS regression coefficients\", fontweight=\"bold\")\n",
    "ax.set_ylabel(\"NNLS regression coefficients\", fontweight=\"bold\")"
   ]
  }
 ],
 "metadata": {
  "interpreter": {
   "hash": "21278c9276100b1652f3f92759879876200e410586490b47d4aac09db8da8794"
  },
  "kernelspec": {
   "display_name": "Python 3.7.13 ('deep')",
   "language": "python",
   "name": "python3"
  },
  "language_info": {
   "codemirror_mode": {
    "name": "ipython",
    "version": 3
   },
   "file_extension": ".py",
   "mimetype": "text/x-python",
   "name": "python",
   "nbconvert_exporter": "python",
   "pygments_lexer": "ipython3",
   "version": "3.7.13"
  },
  "orig_nbformat": 4
 },
 "nbformat": 4,
 "nbformat_minor": 2
}
